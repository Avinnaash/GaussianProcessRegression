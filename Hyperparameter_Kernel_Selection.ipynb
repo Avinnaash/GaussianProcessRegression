{
 "cells": [
  {
   "cell_type": "code",
   "execution_count": 3,
   "id": "be31191b",
   "metadata": {},
   "outputs": [],
   "source": [
    "## Import libraries ##\n",
    "import numpy as np\n",
    "from scipy import stats\n",
    "from scipy.stats import multivariate_normal\n",
    "from scipy.optimize import minimize\n",
    "import matplotlib.pyplot as plt\n",
    "plt.style.use('default')\n",
    "import seaborn as sns\n",
    "import pandas as pd"
   ]
  },
  {
   "cell_type": "code",
   "execution_count": 84,
   "id": "a2a90ee2",
   "metadata": {},
   "outputs": [],
   "source": [
    "## Define functions ##\n",
    "\n",
    "# This is the true unknown function we are trying to approximate\n",
    "f = lambda x: np.sin(0.9*x).flatten()\n",
    "\n",
    "def kernel(a, b, kernelParameter_l, kernelParameter_sigma):\n",
    "    #Hyperparameters:\n",
    "    #kernelParameter_l = 1.94 #0.3 #1.94\n",
    "    #kernelParameter_sigma = 1.75 #1.0 #1.75\n",
    "    \n",
    "    #Kernel:\n",
    "    sqdist = np.sum(a**2,axis=1).reshape(-1,1) + np.sum(b**2,1) - 2*np.dot(a, b.T)\n",
    "    sqexpo = (kernelParameter_sigma**2)*np.exp(-.5 * (1/(kernelParameter_l**2)) * sqdist)\n",
    "    # np.sum( ,axis=1) means adding all elements columnly; .reshap(-1, 1) add one dimension to make (n,) become (n,1)\n",
    "    return sqexpo\n",
    "\n",
    "# Known: (X,y) observations. Hyperparameters in covar funct K+sI include sigma_n, l, and sigma\n",
    "def posterior(X, y, sigma_n, kernelParameter_l, kernelParameter_sigma):\n",
    "    N = len(X)\n",
    "    n = 200 # number of test points X*\n",
    "    \n",
    "    ## 2) Define kernel and cholesky decompose:\n",
    "    K = kernel(X, X, kernelParameter_l, kernelParameter_sigma)\n",
    "    L = np.linalg.cholesky(K + (sigma_n**2)*np.eye(N))\n",
    "\n",
    "    ## 3) Predictive mean at test points\n",
    "    Xtest = np.linspace(-5, 5, n).reshape(-1,1)\n",
    "    v = np.linalg.solve(L, kernel(X, Xtest, kernelParameter_l, kernelParameter_sigma))   #v = L^{-1} k_*\n",
    "    b = np.linalg.solve(L, y) #b = L\\backslash y = L^{-1}y\n",
    "    mu = np.dot(v.T, b) #f_* = v^Tb\n",
    "\n",
    "    ## 4) Predictive variance at test points\n",
    "    Kstar = kernel(Xtest, Xtest, kernelParameter_l, kernelParameter_sigma) #this is a diag mat since x_p = x_q in k(x_p,x_q)  \n",
    "    sigma = Kstar - np.dot(v.T,v) # = np.diag(Kstar) - np.sum(v**2, axis=0)  \n",
    "    var = np.diag(sigma)\n",
    "    std = np.sqrt(var)\n",
    "    \n",
    "    return Xtest, mu, std\n",
    "\n",
    "def plot_post(X, y, sigma_n, kernelParameter_l, kernelParameter_sigma):\n",
    "    #Return mu and std:\n",
    "    Xtest, mu, std = posterior(X, y, sigma_n, kernelParameter_l, kernelParameter_sigma)\n",
    "    \n",
    "    ## PLOT\n",
    "    plt.clf()\n",
    "    plt.figure(figsize=(8,4))\n",
    "\n",
    "    # Plot training data\n",
    "    plt.plot(X, y, 'k+', ms=18)\n",
    "    # Plot test points\n",
    "    plt.plot(Xtest, f(Xtest), 'b-')\n",
    "    # Plot predictive mean\n",
    "    plt.plot(Xtest, mu, 'r--', lw=2)\n",
    "    # Plot 2std above and below predictive mean\n",
    "    plt.gca().fill_between(Xtest.flat, mu-2*std, mu+2*std, color=\"#dddddd\")\n",
    "\n",
    "    plt.title('Mean predictions +/- 2 std.')\n",
    "    plt.xlabel(r'$X$')\n",
    "    plt.ylabel(r'$Y$')\n",
    "    plt.show()"
   ]
  },
  {
   "cell_type": "markdown",
   "id": "abbac5ee",
   "metadata": {},
   "source": [
    "## 4 Covariance Functions"
   ]
  },
  {
   "cell_type": "markdown",
   "id": "444e1342",
   "metadata": {},
   "source": [
    "- _Stationary_ covariance function is a function $x-x'$. It is invariant to translations in input space. Ex: squared exponential kernel.\n",
    "- _Isotropic_ covariance function if it is a function of $\\lvert x-x' \\rvert$. Ex: squared exponential kernel.\n",
    "- _Dot product_ covariance function if it depends only on $x$ and $x'$ through $x\\cdot x'$. Ex: $k(x,x') = \\sigma_0^2 + x\\cdot x'$ from linear regression with $N(0,1)$ priors on the coefficients of $x_d$ and a prior of $N(0,\\sigma_0^2)$ on the bias $1$. Another is the polynomail kernel $k(x,x') = (\\sigma_0^2+x\\cdot x')^p$. They're invariant to rotation of coordinates but not translations.\n",
    "- _Gram matrix, or covariance matrix, K_ whose entries are $K_{ij} = k(x_i,x_j)$. It is a positive semidefinite matrix."
   ]
  },
  {
   "cell_type": "markdown",
   "id": "34d7f391",
   "metadata": {},
   "source": [
    "## 5 Model Selection and Adaptation of Hyperparameters"
   ]
  },
  {
   "cell_type": "markdown",
   "id": "df32527f",
   "metadata": {},
   "source": [
    "Families of covariance functions have _hyperparameters_ whose values we must determine. This is _model selection_. The _training_ of a GP is the process of selecting a covariance function's parameters."
   ]
  },
  {
   "cell_type": "markdown",
   "id": "9aae2ae2",
   "metadata": {},
   "source": [
    "### 5.4 Method 2: Marginal likelihood"
   ]
  },
  {
   "cell_type": "markdown",
   "id": "6ee3fe71",
   "metadata": {},
   "source": [
    "Definitions\n",
    "* _Likelihood_: let $p(x\\vert \\theta)$ be the density function of $x$ with a fixed $\\theta$, and $x$ is a realization of the random variable $X$. The likelihood function $L(\\theta\\vert x) = p_\\theta(x)$ is a fuction of $\\theta$, the probability of $x$ for the parameter $\\theta$. It is not a pdf. \n",
    "* _Maximum likelihood estimator (MLE)_: this is the value of $\\theta$ that has the highest chance of obtaining sample $X$. That is, $\\hat{\\theta} = \\text{argmax}_\\theta L(\\theta\\vert x)$. If $\\theta = (\\theta_1,\\theta_2)$, we can find $\\hat{\\theta} = (\\hat{\\theta_1},\\hat{\\theta_2})$ by solving $\\frac{d}{d\\theta_j}\\ln(L(\\theta\\vert x))=0$.\n",
    "\n",
    "In context of GPs:\n",
    "* _Marginal likelihood (evidence)_: $p(y\\vert X) = \\int L(y\\vert f,X)p(f\\vert X) df$. Where the left integrand is the likelihood and the right is the pdf of the prior. Here, $f\\vert X\\sim N(0,K)$, $y\\vert f \\sim N(f,\\sigma_n^2I)$, and $y\\sim N(0,K+\\sigma_n^2I)$ by property of marginal distribution of joint Normal (see definition of GP).\n",
    "* We have $m$ hyperparameters $\\theta = (\\theta_1,\\ldots,\\theta_m)$ in our GP model based on observations $(X,y)$. Our goal is to maximize the marginal likelihood $p(y\\vert X,\\theta)$, where $\\theta$ is unknown, based on the observed data $(X,y)$. That is, we want to find the _maximum marginal likelihood_\n",
    "$$\\hat{\\theta} = \\text{argmax}_\\theta p(y\\vert X,\\theta)$$\n",
    "Let's write $y\\sim N(0,K+\\sigma_n^2I) = N(0,K_y)$, where $K = k(X,X)$ and $K_y$ depends on $X,\\theta$. Then,\n",
    "$$p(y\\vert X,\\theta) = (2\\pi)^{\\frac{-n}{2}}\\lvert K_y\\rvert^{\\frac{-n}{2}}\\exp[-\\frac{1}{2}y^TK_y^{-1}y]$$\n",
    "which we rewrite as the marginal log-likelihood\n",
    "$$\\ln(p(y\\vert X,\\theta)) = -\\frac{n}{2}\\ln(2\\pi)-\\frac{1}{2}\\ln\\lvert K_y\\rvert-\\frac{1}{2}y^TK_y^{-1} y.$$\n",
    "We solve for $\\hat{\\theta} = \\text{argmin}_\\theta -\\ln(p(y\\vert X,\\theta))$ with a gradient based optimization approach.\n",
    "\n",
    "Sources used: Rasmussen and Williams, _Gaussian Process for Machine Learning_; pp. 19, 115"
   ]
  },
  {
   "cell_type": "markdown",
   "id": "0f7e6d97",
   "metadata": {},
   "source": [
    "_Objective function_: a function whose value is to be minimized or maximized.\n",
    "\n",
    "_Gradient descent_: a method in optimization used for finding a local minimum of a differentiable multivariate function, like a cost or loss function in machine learning, by stepping in the direction of the gradient. Let $J(\\theta) =  -\\ln(p(y\\vert X,\\theta))$ be the objective function we want to minimize by updating $\\theta$ in the oppositive direction of the gradient of $J(\\theta)$, which we write as $\\nabla_\\theta J(\\theta)$. Let $\\eta$ determine the number of steps to reach the minimum, the learning rate.\n",
    "\n",
    "Start with an initial parameter $\\theta = \\theta_1$. There are three gradient descent methods: \n",
    "* 1) _Batch gradient descent (vanilla update)_ computes the graident of the cost (objective) function with respect to $\\theta$ for all the training observations $(X,Y)$\n",
    "$$\\theta_{i+1} = \\theta_i - \\eta\\dot\\nabla_{\\theta_i} J(\\theta_i)$$\n",
    "* 2) _Stochastic gradient descent (SGD)_ updates $\\theta_i$ by computing the gradient for only one randomly chosen data point $(x,y)$.\n",
    "* 3) _Mini-batch SGD_ computes the gradient for a subset (mini-batch) of the dataset to find the gradient.\n",
    "\n",
    "Sources used: https://arxiv.org/pdf/2205.00832.pdf, Ch. 2 Gradient Descent"
   ]
  },
  {
   "cell_type": "markdown",
   "id": "aa0924e5",
   "metadata": {},
   "source": [
    "Let's use a mini-batch SGD to train the hyperparameters $\\theta$. Realistically, we don't have access to function values $f$ but only noisy versions $y_i = f(x_i) + \\epsilon$ where $\\epsilon \\sim N(0,\\sigma_n^2)$, $i=1,\\ldots,n$. Unlike in the previous notebook where we defined the noise variance (observation variance) $\\sigma_n^2$, here we treat it as one of the hyperparameters."
   ]
  },
  {
   "cell_type": "code",
   "execution_count": 105,
   "id": "a0d4ca4f",
   "metadata": {},
   "outputs": [],
   "source": [
    "# Marginal log-likelihood of the GP we would like to optimize\n",
    "def gp_loss_fn(par,X,y): #input observations (X,y) and initial parameters (guess)\n",
    "    sigma_n, l, sigma = par #noise std, length scale l, and signal std\n",
    "    N = len(X)\n",
    "    \n",
    "    K_y = kernel(X, X, l, sigma) + (sigma_n**2)*np.eye(N)\n",
    "    K_y_inverse = np.linalg.inv(K_y)\n",
    "    \n",
    "    #negative marginal log-likelihood\n",
    "    mll = (N/2)*np.log(2*np.pi) + (1/2)*np.log(np.linalg.det(K_y)) + (1/2)*np.dot(np.dot(y.T,K_y_inverse),y)\n",
    "    return mll\n",
    "\n",
    "#Test!\n",
    "#try scipy minimize to find optimum parameters:\n",
    "N = 7\n",
    "X = np.random.uniform(-5, 5, size=(N,1))\n",
    "y = (f(X) + np.random.normal(0,0.0005,N)).reshape(-1,1) #observations (following true unknown function we wish to approx)\n",
    "init_par = np.array([0.05,0.3,1])"
   ]
  },
  {
   "cell_type": "code",
   "execution_count": 106,
   "id": "d255a442",
   "metadata": {},
   "outputs": [
    {
     "name": "stdout",
     "output_type": "stream",
     "text": [
      "sigma_n = 0, l = 2.2451, sigma_f = 1.0584\n"
     ]
    },
    {
     "data": {
      "text/plain": [
       "<Figure size 640x480 with 0 Axes>"
      ]
     },
     "metadata": {},
     "output_type": "display_data"
    },
    {
     "data": {
      "image/png": "[encoded data removed]",
      "text/plain": [
       "<Figure size 800x400 with 1 Axes>"
      ]
     },
     "metadata": {},
     "output_type": "display_data"
    }
   ],
   "source": [
    "# Optimization method 1) L-BFGS-B\n",
    "opt_par = minimize(gp_loss_fn, init_par,args=(X,y), method=\"L-BFGS-B\", options = {'disp':True})\n",
    "sigma_n, l, sigma = opt_par.x[0], opt_par.x[1], opt_par.x[2]\n",
    "print(\"sigma_n = %i, l = %.4f, sigma_f = %.4f\" % (sigma_n, l, sigma) )\n",
    "\n",
    "y = y.T[0]\n",
    "plot_post(X, y, sigma_n, l, sigma)"
   ]
  }
 ],
 "metadata": {
  "kernelspec": {
   "display_name": "Python 3 (ipykernel)",
   "language": "python",
   "name": "python3"
  },
  "language_info": {
   "codemirror_mode": {
    "name": "ipython",
    "version": 3
   },
   "file_extension": ".py",
   "mimetype": "text/x-python",
   "name": "python",
   "nbconvert_exporter": "python",
   "pygments_lexer": "ipython3",
   "version": "3.10.9"
  }
 },
 "nbformat": 4,
 "nbformat_minor": 5
}
