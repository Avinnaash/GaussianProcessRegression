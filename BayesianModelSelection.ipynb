{
 "cells": [
  {
   "cell_type": "code",
   "execution_count": 55,
   "id": "c70ed962",
   "metadata": {},
   "outputs": [],
   "source": [
    "## Import libraries ##\n",
    "import numpy as np\n",
    "from scipy import stats\n",
    "from scipy.stats import multivariate_normal\n",
    "from scipy.optimize import minimize\n",
    "import matplotlib.pyplot as plt\n",
    "plt.style.use('default')\n",
    "from matplotlib import cm\n",
    "from matplotlib.ticker import LinearLocator\n",
    "import seaborn as sns\n",
    "import pandas as pd"
   ]
  },
  {
   "cell_type": "code",
   "execution_count": 56,
   "id": "e2193fea",
   "metadata": {},
   "outputs": [],
   "source": [
    "## Define Basic functions ##\n",
    "\n",
    "#generate points that aren't too close to each other\n",
    "def generate_points(minX, maxX, N, min_distance = 0.05, dim = 1):\n",
    "    points = []\n",
    "    while len(points) < N:\n",
    "        # Generate a random point\n",
    "        point = np.random.uniform(-5, 5, size=(2,dim)) # Adjust range as needed\n",
    "        if len(points) == 0:\n",
    "            points.append(point)\n",
    "        else:\n",
    "            # Check distance with existing points\n",
    "            valid_point = True\n",
    "            for existing_point in points:\n",
    "                distance = np.linalg.norm(point - existing_point)\n",
    "                if distance < min_distance:\n",
    "                    valid_point = False\n",
    "                    break\n",
    "            if valid_point:\n",
    "                points.append(point)\n",
    "    return np.concatenate(points)\n",
    "\n",
    "\n",
    "# This is the true unknown function we are trying to approximate\n",
    "f = lambda x: np.sin(0.9*x).flatten()\n",
    "\n",
    "\n",
    "#squared expo kernel\n",
    "def kernel(a, b, kernelParameter_l, kernelParameter_sigma):\n",
    "    #Hyperparameters:\n",
    "    #kernelParameter_l = 1.94 #0.3 #1.94\n",
    "    #kernelParameter_sigma = 1.75 #1.0 #1.75\n",
    "    \n",
    "    #Kernel:\n",
    "    sqdist = np.sum(a**2,axis=1).reshape(-1,1) + np.sum(b**2,1) - 2*np.dot(a, b.T)\n",
    "    sqexpo = (kernelParameter_sigma**2)*np.exp(-.5 * (1/(kernelParameter_l**2)) * sqdist)\n",
    "    # np.sum( ,axis=1) means adding all elements columnly; .reshap(-1, 1) add one dimension to make (n,) become (n,1)\n",
    "    return sqexpo\n",
    "\n",
    "\n",
    "# Known: (X,y) observations. Hyperparameters in covar funct K+sI include sigma_n, l, and sigma\n",
    "def posterior(X, y, sigma_n, kernelParameter_l, kernelParameter_sigma):\n",
    "    '''\n",
    "    posterior(X, y, sigma_n, kernelParameter_l, kernelParameter_sigma)\n",
    "    Known: (X,y) observations. Hyperparameters in covar funct K+sI include sigma_n, l, and sigma\n",
    "    '''\n",
    "    \n",
    "    N = len(X)\n",
    "    n = 200 # number of test points X*\n",
    "    \n",
    "    ## 2) Define kernel and cholesky decompose:\n",
    "    K = kernel(X, X, kernelParameter_l, kernelParameter_sigma)\n",
    "    L = np.linalg.cholesky(K + (sigma_n**2)*np.eye(N))\n",
    "\n",
    "    ## 3) Predictive mean at test points\n",
    "    Xtest = np.linspace(min(X), max(X), n).reshape(-1,1)\n",
    "    v = np.linalg.solve(L, kernel(X, Xtest, kernelParameter_l, kernelParameter_sigma))   #v = L^{-1} k_*\n",
    "    b = np.linalg.solve(L, y) #b = L\\backslash y = L^{-1}y\n",
    "    mu = np.dot(v.T, b) #f_* = v^Tb\n",
    "\n",
    "    ## 4) Predictive variance at test points\n",
    "    Kstar = kernel(Xtest, Xtest, kernelParameter_l, kernelParameter_sigma) #this is a diag mat since x_p = x_q in k(x_p,x_q)  \n",
    "    sigma = Kstar - np.dot(v.T,v) # = np.diag(Kstar) - np.sum(v**2, axis=0)  \n",
    "    var = np.diag(sigma)\n",
    "    std = np.sqrt(np.abs(var))\n",
    "    \n",
    "    return Xtest, mu, std\n",
    "\n",
    "\n",
    "#Given test point x (Xtest_val), what is y?\n",
    "def conditional(Xtest_val, X, y, sigma_n, kernelParameter_l, kernelParameter_sigma):\n",
    "    '''\n",
    "    conditional(Xtest_val, X, y, sigma_n, kernelParameter_l, kernelParameter_sigma)\n",
    "    Given test point x (Xtest_val), what is y?\n",
    "    '''\n",
    "    N = len(X)\n",
    "    \n",
    "    ## 2) Define kernel and cholesky decompose:\n",
    "    K = kernel(X, X, kernelParameter_l, kernelParameter_sigma)\n",
    "    L = np.linalg.cholesky(K + sigma_n**2*np.eye(N)) \n",
    "\n",
    "    ## 3) Predictive mean at test points\n",
    "    Xtest = np.asarray([Xtest_val]).reshape(-1,1)\n",
    "    v = np.linalg.solve(L, kernel(X, Xtest, kernelParameter_l, kernelParameter_sigma))   #v = L^{-1} k_*\n",
    "    b = np.linalg.solve(L, y) #b = L\\backslash y = L^{-1}y\n",
    "    mu = np.dot(v.T, b) #f_* = v^Tb\n",
    "\n",
    "    ## 4) Predictive variance at test points\n",
    "    Kstar = kernel(Xtest, Xtest, kernelParameter_l, kernelParameter_sigma) #this is a diagonal matrix since x_p = x_q in k(x_p,x_q)  \n",
    "    sigma = Kstar - np.dot(v.T,v) # = np.diag(Kstar) - np.sum(v**2, axis=0)  \n",
    "    var = np.diag(sigma)\n",
    "    std = np.sqrt(np.abs(var))\n",
    "\n",
    "    return Xtest_val, mu, std\n",
    "\n",
    "\n",
    "#plot the posterior distribution of GPR\n",
    "def plot_post(X, y, sigma_n, kernelParameter_l, kernelParameter_sigma):\n",
    "    '''\n",
    "    plot_post(X, y, sigma_n, kernelParameter_l, kernelParameter_sigma)\n",
    "    Plot the posterior distribution of GPR\n",
    "    '''\n",
    "    #Return mu and std:\n",
    "    Xtest, mu, std = posterior(X, y, sigma_n, kernelParameter_l, kernelParameter_sigma)\n",
    "    print(\"Mean predictive std: \", np.mean(std))\n",
    "    \n",
    "    ## PLOT\n",
    "    plt.clf()\n",
    "    plt.figure(figsize=(8,4))\n",
    "\n",
    "    # Plot training data\n",
    "    plt.plot(X, y, 'k+', ms=18)\n",
    "    # Plot test points\n",
    "    #plt.plot(Xtest, f(Xtest), 'b-')\n",
    "    # Plot predictive mean\n",
    "    plt.plot(Xtest, mu, 'r--', lw=2)\n",
    "    # Plot 2std above and below predictive mean\n",
    "    plt.gca().fill_between(Xtest.flat, mu-2*std, mu+2*std, color=\"#dddddd\")\n",
    "\n",
    "    plt.title('Mean predictions +/- 2 std.')\n",
    "    plt.xlabel(r'$X$')\n",
    "    plt.ylabel(r'$Y$')\n",
    "    plt.show()"
   ]
  },
  {
   "cell_type": "markdown",
   "id": "72f996f5",
   "metadata": {},
   "source": [
    "## Given"
   ]
  },
  {
   "cell_type": "markdown",
   "id": "2d67ceed",
   "metadata": {},
   "source": [
    "Plot of dataset and the function we'd like to estimate (our goal):"
   ]
  },
  {
   "cell_type": "code",
   "execution_count": 57,
   "id": "f58f3132",
   "metadata": {},
   "outputs": [
    {
     "data": {
      "image/png": "[encoded data removed]",
      "text/plain": [
       "<Figure size 640x480 with 1 Axes>"
      ]
     },
     "metadata": {},
     "output_type": "display_data"
    }
   ],
   "source": [
    "#This is our dataset:\n",
    "N = 10 #must be even\n",
    "X = generate_points(-5, 5, N/2, min_distance = 1, dim = 1)\n",
    "y = (f(X) + np.random.normal(0,0,N)).reshape(-1,1) #observations (following true unknown function we wish to approx)\n",
    "\n",
    "#Plot of data:\n",
    "plt.plot(X, y, 'k+', ms=18)\n",
    "\n",
    "#Function we'd like to estimate --> our goal\n",
    "x = np.arange(min(X)-abs(min(X))*0.2, max(X)+abs(max(X))*0.2, 0.01).reshape(-1,1)\n",
    "f_x = f(x)\n",
    "\n",
    "#Render plots\n",
    "plt.plot(x, f_x)\n",
    "plt.axis([min(x)-abs(min(x))*0.1, max(x)+abs(max(x))*0.1, min(f(x))-abs(min(f(x)))*0.1,  max(f(x))+abs(max(f(x)))*0.1])\n",
    "plt.xlabel(r'$X$')\n",
    "plt.ylabel(r'$Y$')\n",
    "plt.show()"
   ]
  },
  {
   "cell_type": "markdown",
   "id": "22ab355e",
   "metadata": {},
   "source": [
    "and we'll use this kernel in our GP:"
   ]
  },
  {
   "cell_type": "markdown",
   "id": "c5e947eb",
   "metadata": {},
   "source": [
    "We use the _Squared Exponential Kernel_, also called Radial Basis Function Kernel or Gaussian Kernel, as our covariance function:\n",
    "\\begin{equation}\\label{eq:1}\n",
    "\\kappa(\\mathbf{x}_i,\\mathbf{x}_j) = \\sigma_f^2 \\exp\\left(-\\frac{1}{2l^2}\n",
    "  (\\mathbf{x}_i - \\mathbf{x}_j)^T\n",
    "  (\\mathbf{x}_i - \\mathbf{x}_j)\\right)\n",
    "\\end{equation}\n",
    "where the signal variance $\\sigma_f^2$ (signal standard deviation $\\sigma_f$) and the length scale $l$ are _hyperparameters_ which we'll want to optimize. In this example, this would result in a $n$x$n$ positive-definite covariance matrix $K$ where each element is $\\kappa(x_i,x_j)$ with $x_i,x_j$ taken from the $n$ evenly spaced $x$ values for all $i,j\\in \\{1\\ldots,n\\}$."
   ]
  },
  {
   "cell_type": "code",
   "execution_count": 58,
   "id": "2e575667",
   "metadata": {},
   "outputs": [
    {
     "data": {
      "image/png": "[encoded data removed]",
      "text/plain": [
       "<Figure size 640x480 with 2 Axes>"
      ]
     },
     "metadata": {},
     "output_type": "display_data"
    }
   ],
   "source": [
    "#Plot of kernel\n",
    "x = x.reshape(-1,1)\n",
    "x = (x - np.min(x))/(np.max(x) - np.min(x)) #X in [0,1]\n",
    "K = kernel(x, x, 1, 1)\n",
    "\n",
    "plt.imshow(K, cmap = 'Blues', interpolation = 'nearest')\n",
    "plt.colorbar()\n",
    "plt.show()"
   ]
  },
  {
   "cell_type": "markdown",
   "id": "7e3159aa",
   "metadata": {},
   "source": [
    "Normalize data:"
   ]
  },
  {
   "cell_type": "code",
   "execution_count": 59,
   "id": "0ca9afb0",
   "metadata": {},
   "outputs": [],
   "source": [
    "#Normalize feature:\n",
    "X = (X - np.min(X))/(np.max(X) - np.min(X)) #X in [0,1]\n",
    "\n",
    "#Normalize target:\n",
    "#y = (y - min(y))/(max(y)-min(y))"
   ]
  },
  {
   "cell_type": "code",
   "execution_count": 60,
   "id": "4d324c0f",
   "metadata": {},
   "outputs": [
    {
     "data": {
      "image/png": "[encoded data removed]",
      "text/plain": [
       "<Figure size 640x480 with 1 Axes>"
      ]
     },
     "metadata": {},
     "output_type": "display_data"
    }
   ],
   "source": [
    "#Plot\n",
    "plt.plot(X, y, 'k+', ms=18) #data points\n",
    "\n",
    "plt.xlabel(r'$X$')\n",
    "plt.ylabel(r'$Y$')\n",
    "plt.show()"
   ]
  },
  {
   "cell_type": "markdown",
   "id": "edf01d93",
   "metadata": {},
   "source": [
    "### 5.2 Method 1: Bayesian Model Selection"
   ]
  },
  {
   "cell_type": "markdown",
   "id": "a3e63afa",
   "metadata": {},
   "source": [
    "While there are many variations to model selection, most fall under one of three principles:\n",
    "\n",
    "1) Find the probability of the model given the data. Ex: Bayesian model selection.\n",
    "\n",
    "2) Estimate the generalization error. Ex: cross-validation.\n",
    "\n",
    "3) Bound the generalization error.\n",
    "\n",
    "The generalization error is the average error on test cases, following the same distribution as the training dataset. We do not aim for low training error since any model may fit the noise in the training set, leading to low training noise but high generalization error, which is an over-fit.\n",
    "\n",
    "<br><br>\n",
    "Sources used:\n",
    "* Rasmussen and Williams, _Gaussian Process for Machine Learning_; pp. 108"
   ]
  },
  {
   "cell_type": "markdown",
   "id": "24ebc012",
   "metadata": {},
   "source": [
    "The Bayesian view on model selection computes the probability of the model given the data via the marginal likelihood. We use a Bayesian treatment of the parameters as it views any uncertainties (like the parameters, hyperparameters, and models) as random variables with prior distributions.\n",
    "- It's common practice to use **Bayesian hierarchical modelling**. This is where lowest level are the parameters $w$, like the coefficient parameters in a linear model or the weights in a neural network, the second level are the hyperparameters $\\theta$ which determine the distribution of the parameters $w$, like the ''weight decay\" term in a neural network or the $\\lambda$ term in ridge regression, and the third level may be the set of models, like the choice of kernels.\n",
    "<br><br>\n",
    "Bayesian inference (levels 1 to 3):\n",
    "1. Bayes' rule for the posterior over the parameters: \n",
    "$$\n",
    "p(w\\vert y, X, \\theta, H_i) = \\frac{p(y\\vert X, w, H_i)p(w\\vert \\theta, H_i)}{p(y\\vert X, \\theta, H_i)}\n",
    "$$\n",
    "where $p(y\\vert X, w, H_i)$ is the likelihood, $p(w\\vert \\theta, H_i)$ is the prior, and $p(y\\vert X, \\theta, H_i)$, which is independent of the parameters, is the marginal likelihood (which we've introduced before):\n",
    "$$\n",
    "p(y\\vert X, \\theta, H_i) = \\int p(y\\vert X, w, H_i)p(w\\vert \\theta, H_i) dw\n",
    "$$\n",
    "<br><br>\n",
    "2. Bayes' rule for the posterior over the hyperparameters: here the marginal likelihood from 1. takes the role of the likelihood:\n",
    "$$\n",
    "p(\\theta\\vert y,X,H_i) = \\frac{p(y\\vert X,\\theta,H_i)p(\\theta\\vert H_i)}{p(y\\vert X,H_i)}\n",
    "$$\n",
    "where $p(\\theta\\vert H_i)$ is the hyper-prior (prior distribution for hyperparameters) and\n",
    "$$\n",
    "p(y\\vert X, H_i) = \\int p(y\\vert X,\\theta,H_i)p(\\theta\\vert H_i) d\\theta\n",
    "$$\n",
    "3. Bayes' rule for the posterior over the models:\n",
    "$$\n",
    "p(H_i\\vert y, X) = \\frac{p(y\\vert X, H_i)p(H_i)}{p(y\\vert X)}\n",
    "$$\n",
    "where \n",
    "$$\n",
    "p(y\\vert X) = \\sum_i p(y\\vert X,H_i)p(H_i)\n",
    "$$\n",
    "<br><br>\n",
    "\n",
    "The integrals above may or may not be analytically solvable, so in general we must resort other methods like Markov chain Monte Carlo (MCMC).\n",
    "\n",
    "<br><br>\n",
    "Sources used:\n",
    "* Rasmussen and Williams, _Gaussian Process for Machine Learning_; pp. 109"
   ]
  },
  {
   "cell_type": "markdown",
   "id": "1d1f0108",
   "metadata": {},
   "source": [
    "**Exercise:** AME 565 Lab - Maximum Likelihood and Bayesian update\n",
    "\n",
    "1) Generate $N$ sampes from a normal distribution with mean $1$ and standard deviation $2$. Using maximum likelihood estimation (MLE), find an estimate of the mean and standard deviation. Use an array of value estimates. Start with $N=5$ and increase gradually\n",
    "\n",
    "2) Consider an exponential distribution of parameter $\\lambda = 2$ that we want to estimate based on $N$ observations. First estimate $\\lambda$ through MLE. Then use Bayesian update to find a distribution between $1$ and $3$ with standard deviation of $0.5$. In each case, find the maximum of the posterior using an array of $\\lambda$ values.\n",
    "\n",
    "3) Redo 1) and 2) but optimize the MLE"
   ]
  },
  {
   "cell_type": "markdown",
   "id": "909b606b",
   "metadata": {},
   "source": [
    "#### 1."
   ]
  },
  {
   "cell_type": "code",
   "execution_count": 61,
   "id": "a1ba800f",
   "metadata": {},
   "outputs": [],
   "source": [
    "# Given:\n",
    "N = 5\n",
    "X = np.random.normal(1, 2, N)"
   ]
  },
  {
   "cell_type": "markdown",
   "id": "c1d0c276",
   "metadata": {},
   "source": [
    "We take $N$ samples $X_i\\sim N(1,2^2)$. The pdf of $X_i$ is:\n",
    "$$\n",
    "f(x_i) = \\frac{1}{\\sqrt{2\\pi\\sigma^2}}\\exp\\left(-\\frac{(x_i-\\mu)^2}{2\\sigma^2}\\right)\n",
    "$$\n",
    "We want to estimate the mean $\\mu_0$ and variance $\\sigma_0^2$ using the MLE.\n",
    "<br>\n",
    "The likelihood of these $N$ samples is\n",
    "$$\n",
    "L(\\mu,\\sigma^2\\vert x_1,\\ldots,x_N) = \\prod_{i=1}^N f(x_i) = \\prod_{i=1}^N \\frac{1}{\\sqrt{2\\pi\\sigma^2}}\\exp\\left(-\\frac{(x_i-\\mu)^2}{2\\sigma^2}\\right)\n",
    "$$\n",
    "$$\n",
    "= (2\\pi\\sigma^2)^{-N/2}\\exp\\left(-\\frac{1}{2\\sigma^2}\\sum_{i=1}^N(x_i-\\mu)^2\\right)\n",
    "$$\n",
    "Taking the log of $L$ gives us the log-likelihood:\n",
    "$$\n",
    "l(\\mu,\\sigma^2\\vert x_1,\\ldots,x_N) = -\\frac{N}{2}\\ln(2\\pi) - \\frac{N}{2}\\ln(\\sigma^2) - \\frac{1}{2\\sigma^2}\\sum_{i=1}^N(x_i-\\mu)^2\n",
    "$$\n",
    "We find the maximum likelihood estimators by solving the maximization problem $\\max_{\\mu,\\sigma^2} l(\\mu,\\sigma^2,x_1,\\ldots,x_N)$. Taking the partial derivative of the log-likelihood with respect to each parameter, setting each to $0$, and solving returns\n",
    "$$\n",
    "\\hat{\\mu_o} = \\frac{1}{N}\\sum_{i=1}^N x_i\n",
    "$$\n",
    "$$\n",
    "\\hat{\\sigma_o^2} = \\frac{1}{N}\\sum_{i=1}^N(x_i - \\hat{\\mu_o})^2\n",
    "$$\n",
    "We use the last two results to estimate the mean and standard deviation of the given sample:"
   ]
  },
  {
   "cell_type": "code",
   "execution_count": 62,
   "id": "03748818",
   "metadata": {},
   "outputs": [
    {
     "name": "stdout",
     "output_type": "stream",
     "text": [
      "2.613989522788619 1.0642439993118822\n"
     ]
    }
   ],
   "source": [
    "#N=5\n",
    "mu_o = (1/N)*np.sum(X)\n",
    "sigma_o = np.sqrt( (1/N)*np.sum((X-mu_o)**2) )\n",
    "print(mu_o, sigma_o)"
   ]
  },
  {
   "cell_type": "code",
   "execution_count": 63,
   "id": "409131c4",
   "metadata": {},
   "outputs": [
    {
     "name": "stdout",
     "output_type": "stream",
     "text": [
      "N= 5 mu_0= 2.361929137495277 sigma_o= 1.4752930831596938\n",
      "N= 6 mu_0= 0.3220675970612242 sigma_o= 1.1961167817082834\n",
      "N= 7 mu_0= 0.8309913525545491 sigma_o= 1.1078492554818757\n",
      "N= 8 mu_0= 0.4811795381556116 sigma_o= 1.0740526343284553\n",
      "N= 9 mu_0= 1.2582926288090581 sigma_o= 1.672494198767467\n",
      "N= 10 mu_0= -0.05343861909940918 sigma_o= 1.5462813636446868\n",
      "N= 11 mu_0= -0.20200734221221045 sigma_o= 2.387153586886162\n",
      "N= 12 mu_0= 1.1695897924579501 sigma_o= 1.7885329805026988\n",
      "N= 13 mu_0= 1.1589596805742435 sigma_o= 2.4002805699716645\n",
      "N= 14 mu_0= 0.8320841095214091 sigma_o= 1.5011273202296989\n",
      "N= 15 mu_0= -0.06160535332024569 sigma_o= 1.8895998852477272\n",
      "N= 16 mu_0= 1.1284003217803384 sigma_o= 2.0875119056986886\n",
      "N= 17 mu_0= 1.4330815088877973 sigma_o= 2.746605061817156\n",
      "N= 18 mu_0= 1.2557413487872195 sigma_o= 2.2761614322922443\n",
      "N= 19 mu_0= 1.3372517726745077 sigma_o= 1.3438006198316066\n",
      "N= 20 mu_0= 0.985195244280273 sigma_o= 2.2469400459125843\n"
     ]
    }
   ],
   "source": [
    "#N=5,...,20\n",
    "for N in range(5,21):\n",
    "    X = np.random.normal(1, 2, N)\n",
    "    mu_o = (1/N)*np.sum(X)\n",
    "    sigma_o = np.sqrt( (1/N)*np.sum((X-mu_o)**2) )\n",
    "    print(\"N=\",N,\"mu_0=\",mu_o,\"sigma_o=\",sigma_o)"
   ]
  },
  {
   "cell_type": "code",
   "execution_count": 64,
   "id": "ec8f605c",
   "metadata": {},
   "outputs": [
    {
     "name": "stdout",
     "output_type": "stream",
     "text": [
      "N= 10000 mu_0= 1.0207552406769893 sigma_o= 1.9798606227234827\n"
     ]
    }
   ],
   "source": [
    "N = 10000\n",
    "X = np.random.normal(1, 2, N)\n",
    "mu_o = (1/N)*np.sum(X)\n",
    "sigma_o = np.sqrt( (1/N)*np.sum((X-mu_o)**2) )\n",
    "print(\"N=\",N,\"mu_0=\",mu_o,\"sigma_o=\",sigma_o)"
   ]
  },
  {
   "cell_type": "markdown",
   "id": "e3ca5619",
   "metadata": {},
   "source": [
    "#### 2."
   ]
  },
  {
   "cell_type": "code",
   "execution_count": 65,
   "id": "59cf8392",
   "metadata": {},
   "outputs": [],
   "source": [
    "#Given:\n",
    "N = 100\n",
    "rate = 2 #lambda = 2\n",
    "X = np.random.exponential(1/rate, N)"
   ]
  },
  {
   "cell_type": "markdown",
   "id": "72ea6b19",
   "metadata": {},
   "source": [
    "We take $N$ samples of $X_i\\sim \\text{Exp}(\\lambda = 2)$. We want to estimate the rate parameter $\\lambda_0$. The pdf of $X_i$ is\n",
    "$$\n",
    "f(x_i) = \\lambda\\exp(-\\lambda x_i), x_i\\in [0,\\infty)\n",
    "$$\n",
    "The the likelihood is\n",
    "$$\n",
    "L(\\lambda\\vert x_1,\\ldots,x_N) = \\prod_{i=1}^N f(x_i) = \\prod_{i=1}^N \\lambda\\exp(-\\lambda x_i)\n",
    "$$\n",
    "$$\n",
    "= \\lambda^N\\exp\\left(-\\lambda\\sum_{i=1}^N x_i\\right)\n",
    "$$\n",
    "Then the log-likelihood is\n",
    "$$\n",
    "l(\\lambda\\vert x_1,\\ldots,x_N) = n\\ln(\\lambda) - \\lambda\\sum_{i=1}^N x_i\n",
    "$$\n",
    "Taking the partial derivative with respect to $\\lambda$, setting it to $0$, and solving yields\n",
    "$$\n",
    "\\hat{\\lambda_o} = \\frac{N}{\\sum_{i=1}^N x_i}\n",
    "$$\n",
    "We use this result to estimate $\\lambda_0$:"
   ]
  },
  {
   "cell_type": "code",
   "execution_count": 66,
   "id": "6696a1b0",
   "metadata": {},
   "outputs": [
    {
     "data": {
      "text/plain": [
       "1.9264880262437978"
      ]
     },
     "execution_count": 66,
     "metadata": {},
     "output_type": "execute_result"
    }
   ],
   "source": [
    "lambda_o = N/np.sum(X)\n",
    "lambda_o"
   ]
  },
  {
   "cell_type": "markdown",
   "id": "cef8b867",
   "metadata": {},
   "source": [
    "We use a Bayesian update to find a distribution of $\\lambda$ (posterior) via (a) uniform prior and (b) truncated normal with std of $0.5$.\n",
    "<br>\n",
    "a) The likelihood is a function of $\\lambda$ with $X$ fixed was given above as\n",
    "$$\n",
    "p(X\\vert \\lambda) = \\lambda^N\\exp\\left(-\\lambda\\sum_{i=1}^N x_i\\right)\n",
    "$$\n",
    "The prior is $p(\\lambda) = \\frac{1}{2}, \\lambda\\in [1,3]$. \n",
    "<br>\n",
    "Then the posterior probability is the probability of $\\lambda$ given the $X$:\n",
    "$$\n",
    "p(\\lambda\\vert X) = \\frac{p(X\\vert\\lambda)p(\\lambda)}{\\int p(X\\vert\\lambda)p(\\lambda)d\\lambda}\n",
    "$$\n",
    "$$\n",
    "= \\frac{\\lambda^N\\exp\\left(-\\lambda\\sum_{i=1}^N x_i\\right)}{\\int_1^3 \\lambda^N\\exp\\left(-\\lambda\\sum_{i=1}^N x_i\\right)d\\lambda}\n",
    "$$"
   ]
  },
  {
   "cell_type": "code",
   "execution_count": 67,
   "id": "ba294cea",
   "metadata": {},
   "outputs": [],
   "source": [
    "#a)\n",
    "import scipy.integrate as integrate\n",
    "\n",
    "def integrand1(lam): #denominator & numerator\n",
    "    return lam**N * np.exp(-lam*np.sum(X))\n",
    "denom1 = integrate.quad(integrand1, 1, 3)\n",
    "\n",
    "def post1(lam): #this is the posterior\n",
    "    return integrand1(lam)/denom1[0]"
   ]
  },
  {
   "cell_type": "code",
   "execution_count": 68,
   "id": "f882b3d2",
   "metadata": {},
   "outputs": [
    {
     "data": {
      "text/plain": [
       "1.0000000000291918"
      ]
     },
     "execution_count": 68,
     "metadata": {},
     "output_type": "execute_result"
    }
   ],
   "source": [
    "#double checking that our posterior integrates to 1\n",
    "integrate.quad(post1,1,3)[0]"
   ]
  },
  {
   "cell_type": "code",
   "execution_count": 69,
   "id": "3a9581cb",
   "metadata": {},
   "outputs": [
    {
     "data": {
      "text/plain": [
       "1.8888888888888888"
      ]
     },
     "execution_count": 69,
     "metadata": {},
     "output_type": "execute_result"
    }
   ],
   "source": [
    "#lets find the maximum of the posterior:\n",
    "def obj_fun1(lam):\n",
    "    return -1*post1(lam)\n",
    "\n",
    "obj_list = []\n",
    "lam_list = []\n",
    "for lam in np.linspace(1,3,10):\n",
    "    obj_list.append(obj_fun1(lam))\n",
    "    lam_list.append(lam)\n",
    "\n",
    "lam_list[np.argmin(obj_list)]"
   ]
  },
  {
   "cell_type": "markdown",
   "id": "57066635",
   "metadata": {},
   "source": [
    "b) The likelihood is a function of $\\lambda$ with $X$ fixed was given above as\n",
    "$$\n",
    "p(X\\vert \\lambda) = \\lambda^N\\exp\\left(-\\lambda\\sum_{i=1}^N x_i\\right)\n",
    "$$\n",
    "The prior is $p(\\lambda) = \\text{Norm}(\\lambda,0.5), \\lambda\\in [1,3]$. \n",
    "<br>\n",
    "Then the posterior probability is the probability of $\\lambda$ given the $X$:\n",
    "$$\n",
    "p(\\lambda\\vert X) = \\frac{p(X\\vert\\lambda)p(\\lambda)}{\\int p(X\\vert\\lambda)p(\\lambda)d\\lambda}\n",
    "$$\n",
    "$$\n",
    "= \\frac{\\lambda^N\\exp\\left(-\\lambda\\sum_{i=1}^N x_i\\right)\\text{Norm}(\\lambda,0.5)}{\\int_1^3 \\lambda^N\\exp\\left(-\\lambda\\sum_{i=1}^N x_i\\right)\\text{Norm}(\\lambda,0.5)d\\lambda}\n",
    "$$"
   ]
  },
  {
   "cell_type": "code",
   "execution_count": 70,
   "id": "bdab17c4",
   "metadata": {},
   "outputs": [],
   "source": [
    "#b)\n",
    "import scipy.integrate as integrate\n",
    "\n",
    "def integrand2(lam): #denominator & numerator\n",
    "    return lam**N * np.exp(-lam*np.sum(X)) * stats.norm.pdf(lam,2,0.5) \n",
    "denom2 = integrate.quad(integrand2, 1, 3) #denominator\n",
    "\n",
    "def post2(lam): #this is the posterior\n",
    "    return integrand2(lam)/denom2[0]"
   ]
  },
  {
   "cell_type": "code",
   "execution_count": 71,
   "id": "65644bc3",
   "metadata": {},
   "outputs": [
    {
     "data": {
      "text/plain": [
       "1.000000001863422"
      ]
     },
     "execution_count": 71,
     "metadata": {},
     "output_type": "execute_result"
    }
   ],
   "source": [
    "#double checking that our posterior integrates to 1\n",
    "integrate.quad(post2,1,3)[0]"
   ]
  },
  {
   "cell_type": "code",
   "execution_count": 72,
   "id": "b4118827",
   "metadata": {},
   "outputs": [
    {
     "data": {
      "text/plain": [
       "1.8888888888888888"
      ]
     },
     "execution_count": 72,
     "metadata": {},
     "output_type": "execute_result"
    }
   ],
   "source": [
    "#lets find the maximum of the posterior:\n",
    "def obj_fun2(lam):\n",
    "    return -1*post2(lam)\n",
    "\n",
    "obj_list = []\n",
    "lam_list = []\n",
    "for lam in np.linspace(1,3,10):\n",
    "    obj_list.append(obj_fun2(lam))\n",
    "    lam_list.append(lam)\n",
    "\n",
    "lam_list[np.argmin(obj_list)]"
   ]
  },
  {
   "cell_type": "markdown",
   "id": "f81481ed",
   "metadata": {},
   "source": [
    "#### 3."
   ]
  },
  {
   "cell_type": "code",
   "execution_count": 73,
   "id": "4e7dd797",
   "metadata": {},
   "outputs": [
    {
     "name": "stdout",
     "output_type": "stream",
     "text": [
      "       message: Optimization terminated successfully.\n",
      "       success: True\n",
      "        status: 0\n",
      "           fun: -2.0691041376907764\n",
      "             x: [ 1.927e+00]\n",
      "           nit: 17\n",
      "          nfev: 34\n",
      " final_simplex: (array([[ 1.927e+00],\n",
      "                       [ 1.926e+00]]), array([-2.069e+00, -2.069e+00]))\n",
      "       message: Optimization terminated successfully.\n",
      "       success: True\n",
      "        status: 0\n",
      "           fun: -2.2101178330978635\n",
      "             x: [ 1.936e+00]\n",
      "           nit: 17\n",
      "          nfev: 34\n",
      " final_simplex: (array([[ 1.936e+00],\n",
      "                       [ 1.936e+00]]), array([-2.210e+00, -2.210e+00]))\n"
     ]
    }
   ],
   "source": [
    "#2)\n",
    "#a)\n",
    "min_a = minimize(obj_fun1, 1.1, method = \"Nelder-Mead\")\n",
    "print(min_a)\n",
    "min_b = minimize(obj_fun2, 1.1, method = \"Nelder-Mead\")\n",
    "print(min_b)"
   ]
  }
 ],
 "metadata": {
  "kernelspec": {
   "display_name": "Python 3 (ipykernel)",
   "language": "python",
   "name": "python3"
  },
  "language_info": {
   "codemirror_mode": {
    "name": "ipython",
    "version": 3
   },
   "file_extension": ".py",
   "mimetype": "text/x-python",
   "name": "python",
   "nbconvert_exporter": "python",
   "pygments_lexer": "ipython3",
   "version": "3.10.9"
  }
 },
 "nbformat": 4,
 "nbformat_minor": 5
}
