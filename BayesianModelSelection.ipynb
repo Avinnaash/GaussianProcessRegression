{
 "cells": [
  {
   "cell_type": "code",
   "execution_count": 1,
   "id": "c70ed962",
   "metadata": {},
   "outputs": [],
   "source": [
    "## Import libraries ##\n",
    "import numpy as np\n",
    "from scipy import stats\n",
    "from scipy.stats import multivariate_normal\n",
    "from scipy.optimize import minimize\n",
    "import matplotlib.pyplot as plt\n",
    "plt.style.use('default')\n",
    "from matplotlib import cm\n",
    "from matplotlib.ticker import LinearLocator\n",
    "import seaborn as sns\n",
    "import pandas as pd"
   ]
  },
  {
   "cell_type": "code",
   "execution_count": 2,
   "id": "e2193fea",
   "metadata": {},
   "outputs": [],
   "source": [
    "## Define Basic functions ##\n",
    "\n",
    "#generate points that aren't too close to each other\n",
    "def generate_points(minX, maxX, N, dim = 1):\n",
    "    min_distance = np.abs(maxX-minX)/(2*N)\n",
    "    print(min_distance)\n",
    "    points = []\n",
    "    while len(points) < N:\n",
    "        # Generate a random point\n",
    "        point = np.random.uniform(minX, maxX, size=(1,dim)) # Adjust range as needed\n",
    "        if len(points) == 0:\n",
    "            points.append(point)\n",
    "        else:\n",
    "            # Check distance with existing points\n",
    "            valid_point = True\n",
    "            for existing_point in points:\n",
    "                distance = np.abs(point - existing_point)\n",
    "                if distance < min_distance:\n",
    "                    valid_point = False\n",
    "                    break\n",
    "            if valid_point:\n",
    "                points.append(point)\n",
    "    return np.concatenate(points)\n",
    "\n",
    "\n",
    "# This is the true unknown function we are trying to approximate\n",
    "f = lambda x: np.sin(0.9*x).flatten()\n",
    "\n",
    "\n",
    "#squared expo kernel\n",
    "def kernel(a, b, kernelParameter_l, kernelParameter_sigma):\n",
    "    #Hyperparameters:\n",
    "    #kernelParameter_l = 1.94 #0.3 #1.94\n",
    "    #kernelParameter_sigma = 1.75 #1.0 #1.75\n",
    "    \n",
    "    #Kernel:\n",
    "    sqdist = np.sum(a**2,axis=1).reshape(-1,1) + np.sum(b**2,1) - 2*np.dot(a, b.T)\n",
    "    sqexpo = (kernelParameter_sigma**2)*np.exp(-.5 * (1/(kernelParameter_l**2)) * sqdist)\n",
    "    # np.sum( ,axis=1) means adding all elements columnly; .reshap(-1, 1) add one dimension to make (n,) become (n,1)\n",
    "    return sqexpo\n",
    "\n",
    "\n",
    "# Known: (X,y) observations. Hyperparameters in covar funct K+sI include sigma_n, l, and sigma\n",
    "def posterior(X, y, sigma_n, kernelParameter_l, kernelParameter_sigma):\n",
    "    '''\n",
    "    posterior(X, y, sigma_n, kernelParameter_l, kernelParameter_sigma)\n",
    "    Known: (X,y) observations. Hyperparameters in covar funct K+sI include sigma_n, l, and sigma\n",
    "    '''\n",
    "    \n",
    "    N = len(X)\n",
    "    n = 200 # number of test points X*\n",
    "    \n",
    "    ## 2) Define kernel and cholesky decompose:\n",
    "    K = kernel(X, X, kernelParameter_l, kernelParameter_sigma)\n",
    "    L = np.linalg.cholesky(K + (sigma_n**2)*np.eye(N))\n",
    "\n",
    "    ## 3) Predictive mean at test points\n",
    "    Xtest = np.linspace(min(X), max(X), n).reshape(-1,1)\n",
    "    v = np.linalg.solve(L, kernel(X, Xtest, kernelParameter_l, kernelParameter_sigma))   #v = L^{-1} k_*\n",
    "    b = np.linalg.solve(L, y) #b = L\\backslash y = L^{-1}y\n",
    "    mu = np.dot(v.T, b) #f_* = v^Tb\n",
    "\n",
    "    ## 4) Predictive variance at test points\n",
    "    Kstar = kernel(Xtest, Xtest, kernelParameter_l, kernelParameter_sigma) #this is a diag mat since x_p = x_q in k(x_p,x_q)  \n",
    "    sigma = Kstar - np.dot(v.T,v) # = np.diag(Kstar) - np.sum(v**2, axis=0)  \n",
    "    var = np.diag(sigma)\n",
    "    std = np.sqrt(np.abs(var))\n",
    "    \n",
    "    return Xtest, mu, std\n",
    "\n",
    "\n",
    "#Given test point x (Xtest_val), what is y?\n",
    "def conditional(Xtest_val, X, y, sigma_n, kernelParameter_l, kernelParameter_sigma):\n",
    "    '''\n",
    "    conditional(Xtest_val, X, y, sigma_n, kernelParameter_l, kernelParameter_sigma)\n",
    "    Given test point x (Xtest_val), what is y?\n",
    "    '''\n",
    "    N = len(X)\n",
    "    \n",
    "    ## 2) Define kernel and cholesky decompose:\n",
    "    K = kernel(X, X, kernelParameter_l, kernelParameter_sigma)\n",
    "    L = np.linalg.cholesky(K + sigma_n**2*np.eye(N)) \n",
    "\n",
    "    ## 3) Predictive mean at test points\n",
    "    Xtest = np.asarray([Xtest_val]).reshape(-1,1)\n",
    "    v = np.linalg.solve(L, kernel(X, Xtest, kernelParameter_l, kernelParameter_sigma))   #v = L^{-1} k_*\n",
    "    b = np.linalg.solve(L, y) #b = L\\backslash y = L^{-1}y\n",
    "    mu = np.dot(v.T, b) #f_* = v^Tb\n",
    "\n",
    "    ## 4) Predictive variance at test points\n",
    "    Kstar = kernel(Xtest, Xtest, kernelParameter_l, kernelParameter_sigma) #this is a diagonal matrix since x_p = x_q in k(x_p,x_q)  \n",
    "    sigma = Kstar - np.dot(v.T,v) # = np.diag(Kstar) - np.sum(v**2, axis=0)  \n",
    "    var = np.diag(sigma)\n",
    "    std = np.sqrt(np.abs(var))\n",
    "\n",
    "    return Xtest_val, mu, std\n",
    "\n",
    "\n",
    "#plot the posterior distribution of GPR\n",
    "def plot_post(X, y, sigma_n, kernelParameter_l, kernelParameter_sigma):\n",
    "    '''\n",
    "    plot_post(X, y, sigma_n, kernelParameter_l, kernelParameter_sigma)\n",
    "    Plot the posterior distribution of GPR\n",
    "    '''\n",
    "    #Return mu and std:\n",
    "    Xtest, mu, std = posterior(X, y, sigma_n, kernelParameter_l, kernelParameter_sigma)\n",
    "    print(\"Mean predictive std: \", np.mean(std))\n",
    "    \n",
    "    ## PLOT\n",
    "    plt.clf()\n",
    "    plt.figure(figsize=(8,4))\n",
    "\n",
    "    # Plot training data\n",
    "    plt.plot(X, y, 'k+', ms=18)\n",
    "    # Plot test points\n",
    "    #plt.plot(Xtest, f(Xtest), 'b-')\n",
    "    # Plot predictive mean\n",
    "    plt.plot(Xtest, mu, 'r--', lw=2)\n",
    "    # Plot 2std above and below predictive mean\n",
    "    plt.gca().fill_between(Xtest.flat, mu-2*std, mu+2*std, color=\"#dddddd\")\n",
    "\n",
    "    plt.title('Mean predictions +/- 2 std.')\n",
    "    plt.xlabel(r'$X$')\n",
    "    plt.ylabel(r'$Y$')\n",
    "    plt.show()"
   ]
  },
  {
   "cell_type": "markdown",
   "id": "72f996f5",
   "metadata": {},
   "source": [
    "## Given"
   ]
  },
  {
   "cell_type": "markdown",
   "id": "2d67ceed",
   "metadata": {},
   "source": [
    "Plot of dataset and the function we'd like to estimate (our goal):"
   ]
  },
  {
   "cell_type": "code",
   "execution_count": 3,
   "id": "f58f3132",
   "metadata": {},
   "outputs": [
    {
     "name": "stdout",
     "output_type": "stream",
     "text": [
      "0.5\n"
     ]
    },
    {
     "data": {
      "image/png": "[encoded data removed]",
      "text/plain": [
       "<Figure size 640x480 with 1 Axes>"
      ]
     },
     "metadata": {},
     "output_type": "display_data"
    }
   ],
   "source": [
    "#This is our dataset:\n",
    "N = 10 \n",
    "X = generate_points(-5, 5, N, dim = 1)\n",
    "y = (f(X) + np.random.normal(0,0,N)).reshape(-1,1) #observations (following true unknown function we wish to approx)\n",
    "\n",
    "#Plot of data:\n",
    "plt.plot(X, y, 'k+', ms=18)\n",
    "\n",
    "#Function we'd like to estimate --> our goal\n",
    "x = np.arange(min(X)-abs(min(X))*0.2, max(X)+abs(max(X))*0.2, 0.01).reshape(-1,1)\n",
    "f_x = f(x)\n",
    "\n",
    "#Render plots\n",
    "plt.plot(x, f_x)\n",
    "plt.axis([min(x)-abs(min(x))*0.1, max(x)+abs(max(x))*0.1, min(f(x))-abs(min(f(x)))*0.1,  max(f(x))+abs(max(f(x)))*0.1])\n",
    "plt.xlabel(r'$X$')\n",
    "plt.ylabel(r'$Y$')\n",
    "plt.show()"
   ]
  },
  {
   "cell_type": "markdown",
   "id": "22ab355e",
   "metadata": {},
   "source": [
    "and we'll use this kernel in our GP:"
   ]
  },
  {
   "cell_type": "markdown",
   "id": "c5e947eb",
   "metadata": {},
   "source": [
    "We use the _Squared Exponential Kernel_, also called Radial Basis Function Kernel or Gaussian Kernel, as our covariance function:\n",
    "\\begin{equation}\\label{eq:1}\n",
    "\\kappa(\\mathbf{x}_i,\\mathbf{x}_j) = \\sigma_f^2 \\exp\\left(-\\frac{1}{2l^2}\n",
    "  (\\mathbf{x}_i - \\mathbf{x}_j)^T\n",
    "  (\\mathbf{x}_i - \\mathbf{x}_j)\\right)\n",
    "\\end{equation}\n",
    "where the signal variance $\\sigma_f^2$ (signal standard deviation $\\sigma_f$) and the length scale $l$ are _hyperparameters_ which we'll want to optimize. In this example, this would result in a $n$x$n$ positive-definite covariance matrix $K$ where each element is $\\kappa(x_i,x_j)$ with $x_i,x_j$ taken from the $n$ evenly spaced $x$ values for all $i,j\\in \\{1\\ldots,n\\}$."
   ]
  },
  {
   "cell_type": "code",
   "execution_count": 4,
   "id": "2e575667",
   "metadata": {},
   "outputs": [
    {
     "data": {
      "image/png": "[encoded data removed]",
      "text/plain": [
       "<Figure size 640x480 with 2 Axes>"
      ]
     },
     "metadata": {},
     "output_type": "display_data"
    }
   ],
   "source": [
    "#Plot of kernel\n",
    "x = x.reshape(-1,1)\n",
    "x = (x - np.min(x))/(np.max(x) - np.min(x)) #X in [0,1]\n",
    "K = kernel(x, x, 1, 1)\n",
    "\n",
    "plt.imshow(K, cmap = 'Blues', interpolation = 'nearest')\n",
    "plt.colorbar()\n",
    "plt.show()"
   ]
  },
  {
   "cell_type": "markdown",
   "id": "7e3159aa",
   "metadata": {},
   "source": [
    "Normalize data:"
   ]
  },
  {
   "cell_type": "code",
   "execution_count": 5,
   "id": "0ca9afb0",
   "metadata": {},
   "outputs": [],
   "source": [
    "#Normalize feature:\n",
    "X = (X - np.min(X))/(np.max(X) - np.min(X)) #X in [0,1]\n",
    "\n",
    "#Normalize target:\n",
    "#y = (y - min(y))/(max(y)-min(y))"
   ]
  },
  {
   "cell_type": "code",
   "execution_count": 6,
   "id": "4d324c0f",
   "metadata": {},
   "outputs": [
    {
     "data": {
      "image/png": "[encoded data removed]",
      "text/plain": [
       "<Figure size 640x480 with 1 Axes>"
      ]
     },
     "metadata": {},
     "output_type": "display_data"
    }
   ],
   "source": [
    "#Plot\n",
    "plt.plot(X, y, 'k+', ms=18) #data points\n",
    "\n",
    "plt.xlabel(r'$X$')\n",
    "plt.ylabel(r'$Y$')\n",
    "plt.show()"
   ]
  },
  {
   "cell_type": "markdown",
   "id": "5dfccdd9",
   "metadata": {},
   "source": [
    "Initial parameter guesses"
   ]
  },
  {
   "cell_type": "code",
   "execution_count": 7,
   "id": "b187428f",
   "metadata": {},
   "outputs": [
    {
     "data": {
      "text/plain": [
       "[0.0001, 0.5, 0.8989328668516184]"
      ]
     },
     "execution_count": 7,
     "metadata": {},
     "output_type": "execute_result"
    }
   ],
   "source": [
    "#Initial guesses#\n",
    "init_sigma_n = 0.0001 #np.std(y) # guess for observation noise\n",
    "init_len_scale = 0.5\n",
    "init_sigma_f = (np.abs(np.min(y)) + np.abs(np.max(y)))/2 #this is the semi-range\n",
    "\n",
    "init_par = [init_sigma_n, init_len_scale, init_sigma_f]\n",
    "init_par #these are the optimum parameters"
   ]
  },
  {
   "cell_type": "markdown",
   "id": "edf01d93",
   "metadata": {},
   "source": [
    "## 5.2 Method 1: Bayesian Model Selection"
   ]
  },
  {
   "cell_type": "markdown",
   "id": "a3e63afa",
   "metadata": {},
   "source": [
    "While there are many variations to model selection, most fall under one of three principles:\n",
    "\n",
    "1) Find the probability of the model given the data. Ex: Bayesian model selection.\n",
    "\n",
    "2) Estimate the generalization error. Ex: cross-validation.\n",
    "\n",
    "3) Bound the generalization error.\n",
    "\n",
    "The generalization error is the average error on test cases, following the same distribution as the training dataset. We do not aim for low training error since any model may fit the noise in the training set, leading to low training noise but high generalization error, which is an over-fit.\n",
    "\n",
    "<br><br>\n",
    "Sources used:\n",
    "* Rasmussen and Williams, _Gaussian Process for Machine Learning_; pp. 108"
   ]
  },
  {
   "cell_type": "markdown",
   "id": "24ebc012",
   "metadata": {},
   "source": [
    "The Bayesian view on model selection computes the probability of the model given the data via the marginal likelihood. We use a Bayesian treatment of the parameters as it views any uncertainties (like the parameters, hyperparameters, and models) as random variables with prior distributions.\n",
    "- It's common practice to use **Bayesian hierarchical modelling**. This is where lowest level are the parameters $w$, like the coefficient parameters in a linear model or the weights in a neural network, the second level are the hyperparameters $\\theta$ which determine the distribution of the parameters $w$, like the ''weight decay\" term in a neural network or the $\\lambda$ term in ridge regression, and the third level may be the set of models, like the choice of kernels.\n",
    "<br><br>\n",
    "Bayesian inference (levels 1 to 3):\n",
    "1. Bayes' rule for the posterior over the parameters: \n",
    "$$\n",
    "p(w\\vert y, X, \\theta, H_i) = \\frac{p(y\\vert X, w, H_i)p(w\\vert \\theta, H_i)}{p(y\\vert X, \\theta, H_i)}\n",
    "$$\n",
    "where $p(y\\vert X, w, H_i)$ is the likelihood, $p(w\\vert \\theta, H_i)$ is the prior, and $p(y\\vert X, \\theta, H_i)$, which is independent of the parameters, is the marginal likelihood (which we've introduced before):\n",
    "$$\n",
    "p(y\\vert X, \\theta, H_i) = \\int p(y\\vert X, w, H_i)p(w\\vert \\theta, H_i) dw\n",
    "$$\n",
    "<br><br>\n",
    "2. Bayes' rule for the posterior over the hyperparameters: here the marginal likelihood from 1. takes the role of the likelihood:\n",
    "$$\n",
    "p(\\theta\\vert y,X,H_i) = \\frac{p(y\\vert X,\\theta,H_i)p(\\theta\\vert H_i)}{p(y\\vert X,H_i)}\n",
    "$$\n",
    "where $p(\\theta\\vert H_i)$ is the hyper-prior (prior distribution for hyperparameters) and the marginal likelihood\n",
    "$$\n",
    "p(y\\vert X, H_i) = \\int p(y\\vert X,\\theta,H_i)p(\\theta\\vert H_i) d\\theta\n",
    "$$\n",
    "3. Bayes' rule for the posterior over the models:\n",
    "$$\n",
    "p(H_i\\vert y, X) = \\frac{p(y\\vert X, H_i)p(H_i)}{p(y\\vert X)}\n",
    "$$\n",
    "where \n",
    "$$\n",
    "p(y\\vert X) = \\sum_i p(y\\vert X,H_i)p(H_i)\n",
    "$$\n",
    "<br><br>\n",
    "\n",
    "The integrals above may or may not be analytically solvable, so in general we must resort other methods like Markov chain Monte Carlo (MCMC).\n",
    "\n",
    "<br><br>\n",
    "Sources used:\n",
    "* Rasmussen and Williams, _Gaussian Process for Machine Learning_; pp. 109"
   ]
  },
  {
   "cell_type": "markdown",
   "id": "06bcc454",
   "metadata": {},
   "source": [
    "### Exercise"
   ]
  },
  {
   "cell_type": "markdown",
   "id": "1d1f0108",
   "metadata": {},
   "source": [
    "**Exercise:** AME 565 Lab - Maximum Likelihood and Bayesian update\n",
    "\n",
    "1) Generate $N$ sampes from a normal distribution with mean $1$ and standard deviation $2$. Using maximum likelihood estimation (MLE), find an estimate of the mean and standard deviation. Use an array of value estimates. Start with $N=5$ and increase gradually\n",
    "\n",
    "2) Consider an exponential distribution of parameter $\\lambda = 2$ that we want to estimate based on $N$ observations. First estimate $\\lambda$ through MLE. Then use Bayesian update to find a distribution between $1$ and $3$ with standard deviation of $0.5$. In each case, find the maximum of the posterior using an array of $\\lambda$ values.\n",
    "\n",
    "3) Redo 1) and 2) but optimize the MLE"
   ]
  },
  {
   "cell_type": "markdown",
   "id": "909b606b",
   "metadata": {},
   "source": [
    "#### 1."
   ]
  },
  {
   "cell_type": "code",
   "execution_count": 8,
   "id": "a1ba800f",
   "metadata": {},
   "outputs": [],
   "source": [
    "# Given:\n",
    "N1 = 5\n",
    "X1 = np.random.normal(1, 2, N1)"
   ]
  },
  {
   "cell_type": "markdown",
   "id": "c1d0c276",
   "metadata": {},
   "source": [
    "We take $N$ samples $X_i\\sim N(1,2^2)$. The pdf of $X_i$ is:\n",
    "$$\n",
    "f(x_i) = \\frac{1}{\\sqrt{2\\pi\\sigma^2}}\\exp\\left(-\\frac{(x_i-\\mu)^2}{2\\sigma^2}\\right)\n",
    "$$\n",
    "We want to estimate the mean $\\mu_0$ and variance $\\sigma_0^2$ using the MLE.\n",
    "<br>\n",
    "The likelihood of these $N$ samples is\n",
    "$$\n",
    "L(\\mu,\\sigma^2\\vert x_1,\\ldots,x_N) = \\prod_{i=1}^N f(x_i) = \\prod_{i=1}^N \\frac{1}{\\sqrt{2\\pi\\sigma^2}}\\exp\\left(-\\frac{(x_i-\\mu)^2}{2\\sigma^2}\\right)\n",
    "$$\n",
    "$$\n",
    "= (2\\pi\\sigma^2)^{-N/2}\\exp\\left(-\\frac{1}{2\\sigma^2}\\sum_{i=1}^N(x_i-\\mu)^2\\right)\n",
    "$$\n",
    "Taking the log of $L$ gives us the log-likelihood:\n",
    "$$\n",
    "l(\\mu,\\sigma^2\\vert x_1,\\ldots,x_N) = -\\frac{N}{2}\\ln(2\\pi) - \\frac{N}{2}\\ln(\\sigma^2) - \\frac{1}{2\\sigma^2}\\sum_{i=1}^N(x_i-\\mu)^2\n",
    "$$\n",
    "We find the maximum likelihood estimators by solving the maximization problem $\\max_{\\mu,\\sigma^2} l(\\mu,\\sigma^2,x_1,\\ldots,x_N)$. Taking the partial derivative of the log-likelihood with respect to each parameter, setting each to $0$, and solving returns\n",
    "$$\n",
    "\\hat{\\mu_o} = \\frac{1}{N}\\sum_{i=1}^N x_i\n",
    "$$\n",
    "$$\n",
    "\\hat{\\sigma_o^2} = \\frac{1}{N}\\sum_{i=1}^N(x_i - \\hat{\\mu_o})^2\n",
    "$$\n",
    "We use the last two results to estimate the mean and standard deviation of the given sample:"
   ]
  },
  {
   "cell_type": "code",
   "execution_count": 9,
   "id": "03748818",
   "metadata": {},
   "outputs": [
    {
     "name": "stdout",
     "output_type": "stream",
     "text": [
      "0.508170381178077 0.701348565951982\n"
     ]
    }
   ],
   "source": [
    "#N=5\n",
    "mu_o = (1/N1)*np.sum(X1)\n",
    "sigma_o = np.sqrt( (1/N)*np.sum((X1-mu_o)**2) )\n",
    "print(mu_o, sigma_o)"
   ]
  },
  {
   "cell_type": "code",
   "execution_count": 10,
   "id": "409131c4",
   "metadata": {},
   "outputs": [
    {
     "name": "stdout",
     "output_type": "stream",
     "text": [
      "N= 10 mu_0= 0.27212897332232583 sigma_o= 0.3410159387173972\n",
      "N= 10 mu_0= 0.39430614553441673 sigma_o= 0.7118442874376985\n",
      "N= 10 mu_0= -0.17143138512790623 sigma_o= 1.2548177733575177\n",
      "N= 10 mu_0= 1.953451219762922 sigma_o= 1.4828374065105896\n",
      "N= 10 mu_0= 0.8307840869950178 sigma_o= 1.3768867104558042\n",
      "N= 10 mu_0= 1.2908392338534542 sigma_o= 2.223980970247407\n",
      "N= 10 mu_0= 0.8645166328542182 sigma_o= 1.9687086189929532\n",
      "N= 10 mu_0= 2.216057081654427 sigma_o= 2.7459981420270996\n",
      "N= 10 mu_0= 1.2330407145149345 sigma_o= 2.2724927228684884\n",
      "N= 10 mu_0= 0.8332075082670608 sigma_o= 3.031262986505654\n",
      "N= 10 mu_0= 0.5667630161576799 sigma_o= 1.9323711658367302\n",
      "N= 10 mu_0= 2.5989823134503247 sigma_o= 1.989421466985652\n",
      "N= 10 mu_0= 1.9094551988482984 sigma_o= 3.3172607162235876\n",
      "N= 10 mu_0= 2.303588967273826 sigma_o= 3.1351850597917474\n",
      "N= 10 mu_0= 2.3176354790819897 sigma_o= 2.968568495279571\n",
      "N= 10 mu_0= -0.09555634360714539 sigma_o= 1.7309631897362288\n"
     ]
    }
   ],
   "source": [
    "#N=5,...,20\n",
    "for N1 in range(5,21):\n",
    "    X1 = np.random.normal(1, 2, N1)\n",
    "    mu_o = (1/N)*np.sum(X1)\n",
    "    sigma_o = np.sqrt( (1/N)*np.sum((X1-mu_o)**2) )\n",
    "    print(\"N=\",N,\"mu_0=\",mu_o,\"sigma_o=\",sigma_o)"
   ]
  },
  {
   "cell_type": "code",
   "execution_count": 11,
   "id": "ec8f605c",
   "metadata": {},
   "outputs": [
    {
     "name": "stdout",
     "output_type": "stream",
     "text": [
      "N= 10000 mu_0= 1.0181104963454841 sigma_o= 1.9965778905682616\n"
     ]
    }
   ],
   "source": [
    "N1 = 10000\n",
    "X1 = np.random.normal(1, 2, N1)\n",
    "mu_o = (1/N1)*np.sum(X1)\n",
    "sigma_o = np.sqrt( (1/N1)*np.sum((X1-mu_o)**2) )\n",
    "print(\"N=\",N1,\"mu_0=\",mu_o,\"sigma_o=\",sigma_o)"
   ]
  },
  {
   "cell_type": "markdown",
   "id": "e3ca5619",
   "metadata": {},
   "source": [
    "#### 2."
   ]
  },
  {
   "cell_type": "code",
   "execution_count": 12,
   "id": "59cf8392",
   "metadata": {},
   "outputs": [],
   "source": [
    "#Given:\n",
    "N1 = 100\n",
    "rate = 2 #lambda = 2\n",
    "X1 = np.random.exponential(1/rate, N1)"
   ]
  },
  {
   "cell_type": "markdown",
   "id": "72ea6b19",
   "metadata": {},
   "source": [
    "We take $N$ samples of $X_i\\sim \\text{Exp}(\\lambda = 2)$. We want to estimate the rate parameter $\\lambda_0$. The pdf of $X_i$ is\n",
    "$$\n",
    "f(x_i) = \\lambda\\exp(-\\lambda x_i), x_i\\in [0,\\infty)\n",
    "$$\n",
    "The the likelihood is\n",
    "$$\n",
    "L(\\lambda\\vert x_1,\\ldots,x_N) = \\prod_{i=1}^N f(x_i) = \\prod_{i=1}^N \\lambda\\exp(-\\lambda x_i)\n",
    "$$\n",
    "$$\n",
    "= \\lambda^N\\exp\\left(-\\lambda\\sum_{i=1}^N x_i\\right)\n",
    "$$\n",
    "Then the log-likelihood is\n",
    "$$\n",
    "l(\\lambda\\vert x_1,\\ldots,x_N) = n\\ln(\\lambda) - \\lambda\\sum_{i=1}^N x_i\n",
    "$$\n",
    "Taking the partial derivative with respect to $\\lambda$, setting it to $0$, and solving yields\n",
    "$$\n",
    "\\hat{\\lambda_o} = \\frac{N}{\\sum_{i=1}^N x_i}\n",
    "$$\n",
    "We use this result to estimate $\\lambda_0$:"
   ]
  },
  {
   "cell_type": "code",
   "execution_count": 13,
   "id": "6696a1b0",
   "metadata": {},
   "outputs": [
    {
     "data": {
      "text/plain": [
       "0.2032762572253457"
      ]
     },
     "execution_count": 13,
     "metadata": {},
     "output_type": "execute_result"
    }
   ],
   "source": [
    "lambda_o = N/np.sum(X1)\n",
    "lambda_o"
   ]
  },
  {
   "cell_type": "markdown",
   "id": "cef8b867",
   "metadata": {},
   "source": [
    "We use a Bayesian update to find a distribution of $\\lambda$ (posterior) via (a) uniform prior and (b) truncated normal with std of $0.5$.\n",
    "<br>\n",
    "a) The likelihood is a function of $\\lambda$ with $X$ fixed was given above as\n",
    "$$\n",
    "p(X\\vert \\lambda) = \\lambda^N\\exp\\left(-\\lambda\\sum_{i=1}^N x_i\\right)\n",
    "$$\n",
    "The prior is $p(\\lambda) = \\frac{1}{2}, \\lambda\\in [1,3]$. \n",
    "<br>\n",
    "Then the posterior probability is the probability of $\\lambda$ given the $X$:\n",
    "$$\n",
    "p(\\lambda\\vert X) = \\frac{p(X\\vert\\lambda)p(\\lambda)}{\\int p(X\\vert\\lambda)p(\\lambda)d\\lambda}\n",
    "$$\n",
    "$$\n",
    "= \\frac{\\lambda^N\\exp\\left(-\\lambda\\sum_{i=1}^N x_i\\right)}{\\int_1^3 \\lambda^N\\exp\\left(-\\lambda\\sum_{i=1}^N x_i\\right)d\\lambda}\n",
    "$$"
   ]
  },
  {
   "cell_type": "code",
   "execution_count": 14,
   "id": "ba294cea",
   "metadata": {},
   "outputs": [],
   "source": [
    "#a)\n",
    "import scipy.integrate as integrate\n",
    "\n",
    "def integrand1(lam): #denominator & numerator\n",
    "    return lam**N1 * np.exp(-lam*np.sum(X1))\n",
    "denom1 = integrate.quad(integrand1, 1, 3)\n",
    "\n",
    "def post1(lam): #this is the posterior\n",
    "    return integrand1(lam)/denom1[0]"
   ]
  },
  {
   "cell_type": "code",
   "execution_count": 15,
   "id": "f882b3d2",
   "metadata": {},
   "outputs": [
    {
     "data": {
      "text/plain": [
       "1.0000000002679403"
      ]
     },
     "execution_count": 15,
     "metadata": {},
     "output_type": "execute_result"
    }
   ],
   "source": [
    "#double checking that our posterior integrates to 1\n",
    "integrate.quad(post1,1,3)[0]"
   ]
  },
  {
   "cell_type": "code",
   "execution_count": 16,
   "id": "3a9581cb",
   "metadata": {},
   "outputs": [
    {
     "data": {
      "text/plain": [
       "2.0303030303030303"
      ]
     },
     "execution_count": 16,
     "metadata": {},
     "output_type": "execute_result"
    }
   ],
   "source": [
    "obj_list = []\n",
    "lam_list = []\n",
    "for lam in np.linspace(1,3,100):\n",
    "    obj_list.append(post1(lam))\n",
    "    lam_list.append(lam)\n",
    "\n",
    "lam_list[np.argmax(obj_list)]"
   ]
  },
  {
   "cell_type": "code",
   "execution_count": 17,
   "id": "52ca4e1f",
   "metadata": {},
   "outputs": [
    {
     "data": {
      "text/plain": [
       "[<matplotlib.lines.Line2D at 0x17acb732440>]"
      ]
     },
     "execution_count": 17,
     "metadata": {},
     "output_type": "execute_result"
    },
    {
     "data": {
      "image/png": "[encoded data removed]",
      "text/plain": [
       "<Figure size 640x480 with 1 Axes>"
      ]
     },
     "metadata": {},
     "output_type": "display_data"
    }
   ],
   "source": [
    "plt.plot(lam_list,obj_list)"
   ]
  },
  {
   "cell_type": "markdown",
   "id": "57066635",
   "metadata": {},
   "source": [
    "b) The likelihood is a function of $\\lambda$ with $X$ fixed was given above as\n",
    "$$\n",
    "p(X\\vert \\lambda) = \\lambda^N\\exp\\left(-\\lambda\\sum_{i=1}^N x_i\\right)\n",
    "$$\n",
    "The prior is $p(\\lambda) = \\text{Norm}(\\lambda,0.5), \\lambda\\in [1,3]$. \n",
    "<br>\n",
    "Then the posterior probability is the probability of $\\lambda$ given the $X$:\n",
    "$$\n",
    "p(\\lambda\\vert X) = \\frac{p(X\\vert\\lambda)p(\\lambda)}{\\int p(X\\vert\\lambda)p(\\lambda)d\\lambda}\n",
    "$$\n",
    "$$\n",
    "= \\frac{\\lambda^N\\exp\\left(-\\lambda\\sum_{i=1}^N x_i\\right)\\text{Norm}(\\lambda,0.5)}{\\int_1^3 \\lambda^N\\exp\\left(-\\lambda\\sum_{i=1}^N x_i\\right)\\text{Norm}(\\lambda,0.5)d\\lambda}\n",
    "$$"
   ]
  },
  {
   "cell_type": "code",
   "execution_count": 18,
   "id": "bdab17c4",
   "metadata": {},
   "outputs": [],
   "source": [
    "#b)\n",
    "def integrand2(lam): #denominator & numerator\n",
    "    return lam**N1 * np.exp(-lam*np.sum(X1)) * stats.norm.pdf(lam,3,0.5)\n",
    "denom2 = integrate.quad(integrand2, 1, 5) #denominator\n",
    "\n",
    "def post2(lam): #this is the posterior\n",
    "    return integrand2(lam)/denom2[0]"
   ]
  },
  {
   "cell_type": "code",
   "execution_count": 19,
   "id": "65644bc3",
   "metadata": {},
   "outputs": [
    {
     "data": {
      "text/plain": [
       "0.9998978417148642"
      ]
     },
     "execution_count": 19,
     "metadata": {},
     "output_type": "execute_result"
    }
   ],
   "source": [
    "#double checking that our posterior integrates to 1\n",
    "integrate.quad(post2,1,3)[0]"
   ]
  },
  {
   "cell_type": "code",
   "execution_count": 20,
   "id": "b4118827",
   "metadata": {},
   "outputs": [
    {
     "data": {
      "text/plain": [
       "2.1791791791791795"
      ]
     },
     "execution_count": 20,
     "metadata": {},
     "output_type": "execute_result"
    }
   ],
   "source": [
    "obj_list = []\n",
    "lam_list = []\n",
    "for lam in np.linspace(1,3,1000):\n",
    "    obj_list.append(post2(lam))\n",
    "    lam_list.append(lam)\n",
    "\n",
    "lam_list[np.argmax(obj_list)]"
   ]
  },
  {
   "cell_type": "code",
   "execution_count": 21,
   "id": "4053e523",
   "metadata": {},
   "outputs": [
    {
     "data": {
      "text/plain": [
       "[<matplotlib.lines.Line2D at 0x17acb7c5630>]"
      ]
     },
     "execution_count": 21,
     "metadata": {},
     "output_type": "execute_result"
    },
    {
     "data": {
      "image/png": "[encoded data removed]",
      "text/plain": [
       "<Figure size 640x480 with 1 Axes>"
      ]
     },
     "metadata": {},
     "output_type": "display_data"
    }
   ],
   "source": [
    "plt.plot(lam_list,obj_list)"
   ]
  },
  {
   "cell_type": "markdown",
   "id": "f81481ed",
   "metadata": {},
   "source": [
    "#### 3."
   ]
  },
  {
   "cell_type": "code",
   "execution_count": 22,
   "id": "4e7dd797",
   "metadata": {},
   "outputs": [
    {
     "name": "stdout",
     "output_type": "stream",
     "text": [
      "       message: Optimization terminated successfully.\n",
      "       success: True\n",
      "        status: 0\n",
      "           fun: -1.9609677256512998\n",
      "             x: [ 2.033e+00]\n",
      "           nit: 17\n",
      "          nfev: 34\n",
      " final_simplex: (array([[ 2.033e+00],\n",
      "                       [ 2.033e+00]]), array([-1.961e+00, -1.961e+00]))\n",
      "       message: Optimization terminated successfully.\n",
      "       success: True\n",
      "        status: 0\n",
      "           fun: -1.9983897905927663\n",
      "             x: [ 2.178e+00]\n",
      "           nit: 18\n",
      "          nfev: 36\n",
      " final_simplex: (array([[ 2.178e+00],\n",
      "                       [ 2.178e+00]]), array([-1.998e+00, -1.998e+00]))\n"
     ]
    }
   ],
   "source": [
    "#2)\n",
    "#lets find the maximum of the posterior:\n",
    "def obj_fun1(lam):\n",
    "    return -1*post1(lam)\n",
    "#lets find the maximum of the posterior:\n",
    "def obj_fun2(lam):\n",
    "    return -1*post2(lam)\n",
    "min_a = minimize(obj_fun1, 1.1, method = \"Nelder-Mead\")\n",
    "print(min_a)\n",
    "min_b = minimize(obj_fun2, 1.1, method = \"Nelder-Mead\")\n",
    "print(min_b)"
   ]
  },
  {
   "cell_type": "markdown",
   "id": "ae162324",
   "metadata": {},
   "source": [
    "## The Problem"
   ]
  },
  {
   "cell_type": "markdown",
   "id": "ee1fc696",
   "metadata": {},
   "source": [
    "From Bayesian hierarchical model, we focus on level 2 for hyperparameter selection:\n",
    "\n",
    "2. Bayes' rule for the posterior over the hyperparameters: here the marginal likelihood from level 1. takes the role of the likelihood:\n",
    "$$\n",
    "p(\\theta\\vert y,X) = \\frac{p(y\\vert X,\\theta)p(\\theta)}{p(y\\vert X)}\n",
    "$$\n",
    "where $p(\\theta)$ is the hyper-prior (prior distribution for hyperparameters) and the marginal likelihood\n",
    "$$\n",
    "p(y\\vert X) = \\int p(y\\vert X,\\theta)p(\\theta) d\\theta\n",
    "$$\n",
    "and the likelihood\n",
    "$$\n",
    "p(y\\vert X,\\theta) = \\int p(y\\vert X, f)p(f\\vert \\theta) df\n",
    "$$\n",
    "is the marginal likelihood in level 1.\n",
    "<br><br><br>\n",
    "\n",
    "**Aproach 1: Type II maximum likelihood (we have done before, see Hyperparameter_Kernel_Selection notebook)**\n",
    "\n",
    "We have $m$ hyperparameters $\\theta = (\\theta_1,\\ldots,\\theta_m)$ in our GP model based on observations $(X,y)$, and the covariance function $K$ is a function of $\\theta$, so we write the marginal likelihood conditioned on the hyperparameters $\\theta$. If our goal is to maximize the marginal likelihood $p(y\\vert X,\\theta)$ from level 1 with respect to $\\theta$, where $\\theta$ is unknown and $(X,y)$ is our observed data, then the aproximation is called a _type II maximum likelihood_. That is, we want to find the _maximum marginal likelihood_\n",
    "$$\n",
    "\\hat{\\theta} = \\text{argmax}_\\theta p(y\\vert X,\\theta)\n",
    "$$\n",
    "\n",
    "Let's write $y\\sim N(0,K+\\sigma_n^2I) = N(0,K_y)$, where $K = k(X,X)$ and $K_y$ depend on $X,\\theta$ (for $K_y$, $\\theta$ includes $\\sigma_n$). Then,\n",
    "$$\n",
    "p(y\\vert X,\\theta) = (2\\pi)^{\\frac{-n}{2}}\\lvert K_y\\rvert^{\\frac{-n}{2}}\\exp[-\\frac{1}{2}y^TK_y^{-1}y]\n",
    "$$\n",
    "which we rewrite as the marginal log-likelihood\n",
    "$$\n",
    "\\ln(p(y\\vert X,\\theta)) = -\\frac{n}{2}\\ln(2\\pi)-\\frac{1}{2}\\ln\\lvert K_y\\rvert-\\frac{1}{2}y^TK_y^{-1} y.\n",
    "$$\n",
    "<br><br><br>\n",
    "\n",
    "**Approach 2: Integratation**\n",
    "We would like to find the posterior\n",
    "$$\n",
    "p(\\theta\\vert y,X) = \\frac{p(y\\vert X,\\theta)p(\\theta)}{p(y\\vert X)}\n",
    "$$\n",
    "<br>\n",
    "$$\n",
    "= \\frac{p(y\\vert X,\\theta)p(\\theta)}{\\int p(y\\vert X,\\theta)p(\\theta) d\\theta}\n",
    "$$\n",
    "<br>\n",
    "$$\n",
    "= \\frac{\\left((2\\pi)^{\\frac{-n}{2}}\\lvert K_y\\rvert^{\\frac{-n}{2}}\\exp[-\\frac{1}{2}y^TK_y^{-1}y] \\right)p(\\theta)}{\\int \\left((2\\pi)^{\\frac{-n}{2}}\\lvert K_y\\rvert^{\\frac{-n}{2}}\\exp[-\\frac{1}{2}y^TK_y^{-1}y] \\right)p(\\theta) d\\theta}\n",
    "$$\n",
    "<br>\n",
    "We've already done approach 1 before, so we'll do approach 2. We find the posterior using Markov chain Monte Carlo (MCMC) methods."
   ]
  },
  {
   "cell_type": "markdown",
   "id": "a0bdc7fe",
   "metadata": {},
   "source": [
    "## Explanation of MCMC"
   ]
  },
  {
   "cell_type": "markdown",
   "id": "0626cdbf",
   "metadata": {},
   "source": [
    "### Basic Monte Carlo Integration\n",
    "Before we go into MCMC, let's investigate how to numerically estiamte the integration of a function $f(x)$ using a Monte Carlo method. Our goal is to solve the following integration problem:\n",
    "$$\n",
    "F = \\int_{x\\in D} f(x) dx\n",
    "$$\n",
    "We can express this as an expectation problem:\n",
    "$$\n",
    "F = \\int_{x\\in D} \\frac{f(x)}{p(x)}p(x)dx = \\int_{x\\in D} g(x)p(x)dx = E[g(x)] = E\\left[\\frac{f(x)}{p(x)}\\right]\n",
    "$$\n",
    "where $p(x)$ is the pdf of our sampling distro (like a proposal distribution in MCMC). We can approximate the integral with a sum:\n",
    "$$\n",
    "E[g(x)] \\approx \\frac{1}{N}\\sum_{i=1}^N g(x_i) = \\frac{1}{N}\\sum_{i=1}^N \\frac{f(x_i)}{p(x_i)}\n",
    "$$\n",
    "By the Strong Law of Large Numbers,\n",
    "$$\n",
    "P(\\lim_{N\\rightarrow\\infty}F^N = F) = 1\n",
    "$$\n",
    "For example, we're sampling from a 1D uniform distro, then the $N$ uniform variables $X_i\\in [a,b)$ with pdf $p(x) = 1/(b-a)$, so\n",
    "$$\n",
    "\\hat{F^N} = (b-a)\\frac{1}{N}\\sum_{i=1}^N f(x_i)\n",
    "$$\n",
    "While there exists standard integration techniques which converge much faster in one dimension, they suffer from the curse of dimensionality where the convergence rate becomes exponentially worse in higher dimensions. The Monte Carlo estimator is unaffected by the number of dimensions, making it the only practical technique for high dimensional integration problems.\n",
    "<br><br><br>\n",
    "Variance of $F^N$:\n",
    "$$\n",
    "\\text{Var}[\\hat{F^N}] = \\frac{1}{N}\\text{Var}\\left[\\frac{f(x_i)}{p(x_i)}\\right]\n",
    "$$\n",
    "How to reduce variance? Try **importance sampling**: choose samples from a distribution $p(x)$ which has a similar shape as $f(x)$. Importance sampling attempts to sample where the contribution of the integrand is high (important).\n",
    "<br>\n",
    "1) If $f(x) = g(x)h(x)$,  we can construct a pdf such that $p(x)$ is proportional to $g(x)$:\n",
    "$$\n",
    "\\frac{1}{N}\\sum_{i=1}^N \\frac{f(x_i)}{p(x_i)} = \\frac{1}{N}\\sum_{i=1}^N \\frac{g(x_i)h(x_i)}{cg(x_i)} = \\frac{1}{cN}\\sum_{i=1}^N h(x_i)\n",
    "$$\n",
    "2) Choose $g(x)$ where its analytical integral is known and $\\frac{f(x_i)-g(x_i)}{p(x_i)}$ is close to a constant.\n",
    "3) Stratified sampling: split the original integral into a sum of integrals over sub-domains (strata). We can split the domain $[a,b]$ into $N$ sub-domains. With a uniform pdf with $\\epsilon_i\\in[0,1)$, we have\n",
    "$$\n",
    "\\hat{F^N} = (b-a)\\frac{1}{N}\\sum_{i=1}^N f\\left(a+\\frac{i+\\epsilon_i}{N}(b-a)\\right)\n",
    "$$\n",
    "\n",
    "<br><br><br>\n",
    "Sources used\n",
    "- https://cs.dartmouth.edu/~wjarosz/publications/dissertation/appendixA.pdf\n",
    "\n",
    "Coding references\n",
    "- https://towardsdatascience.com/the-basics-of-monte-carlo-integration-5fe16b40482d\n",
    "- https://boyangzhao.github.io/posts/monte-carlo-integration"
   ]
  },
  {
   "cell_type": "markdown",
   "id": "22f89649",
   "metadata": {},
   "source": [
    "### MCMC\n",
    "#### 1. Bayesian inference\n",
    "Why MCMC? It allows us to simulate values from an unknown distro.\n",
    "\n",
    "Bayesian inference:\n",
    "- access to observations $y$ in light of underlying data $X$ to make predictions as a function of parameters $\\theta$\n",
    "- $p(y\\vert X,\\theta)$ is the likelihood of $\\theta$ based on $y$\n",
    "\n",
    "By Bayes theorem\n",
    "$$\n",
    "p(\\theta\\vert y,X) = \\frac{p(y\\vert X,\\theta)p(\\theta)}{\\int p(y\\vert X,\\theta)p(\\theta) d\\theta}\n",
    "$$\n",
    "where\n",
    "$$\n",
    "\\int p(y\\vert X,\\theta)p(\\theta) d\\theta\n",
    "$$\n",
    "is the evidence or marginal likelihood because the GP model for $X$ is marginalized (integrated) over all possible parameter values $\\theta$.\n",
    "<br>\n",
    "Let's rewrite posterior as\n",
    "$$\n",
    "P(\\theta) = \\frac{L(\\theta)p(\\theta)}{\\int L(\\theta)p(\\theta)d\\theta} = \\frac{\\tilde{P}(\\theta)}{\\int \\tilde{P}(\\theta)d\\theta} = \\frac{\\tilde{P}(\\theta)}{Z}\n",
    "$$\n",
    "where $\\tilde{P}(\\theta) = ZP(\\theta)$ is the unnormalized posterior. Our goal is to find the following:\n",
    "$$\n",
    "E_p[f(\\theta)] = \\frac{\\int f(\\theta)\\tilde{P}(\\theta)d\\theta}{\\int \\tilde{P}(\\theta)d\\theta} = \\int f(\\theta)P(\\theta)d\\theta\n",
    "$$\n",
    "so we want to use the posterior to propose a point estimate $\\hat{\\theta}$ for $\\theta$.\n",
    "<br><br><br><br>\n",
    "\n",
    "#### 2. Estimating integrals using grids\n",
    "1D case: Riemann sum of $n$ rectangels over discrete grid of points\n",
    "$$\n",
    "E_p[f(\\theta)] = \\int f(\\theta)P(\\theta)d\\theta = \\frac{\\int f(\\theta)\\tilde{P}(\\theta)d\\theta}{\\int \\tilde{P}(\\theta)d\\theta} \\approx \\sum_{i=1}^n f(\\theta_i)P(\\theta_i)\\Delta\\theta_i = \\frac{\\sum_{i=1}^n f(\\theta_i)\\tilde{P}(\\theta_i)\\Delta\\theta_i}{\\sum_{i=1}^n \\tilde{P}(\\theta_i)\\Delta\\theta_i}\n",
    "$$\n",
    "where $\\theta_{i+1}-\\theta_i$ and $\\theta_i = (\\theta_{i+1}+\\theta_i)/2$. In ND case with $n$ cuboids, $\\Delta\\theta_i = \\prod_{j=1}^d\\Delta_{i,j}$ for the $i$th cuboid in the $j$th dimension.\n",
    "<br>\n",
    "Problems:\n",
    "1) $n$ grid points increases exponentially as dimension $d$ increases, the curse of dimensionality\n",
    "2) contribution of each portion of grid points uneven, so effectiveness also depends on where the $n$ points are\n",
    "3) The limit as $N\\rightarrow\\infty$ of the integral approximation may converge, but only if the grid covers the entire domain of $\\theta$ would the grid method be a consistent estimator, which is impossible in practice.\n",
    "\n",
    "<br>\n",
    "Solution: MCMC\n",
    "<br>\n",
    "\n",
    "For problem 2), we can think of the approximation as a weighted sum:\n",
    "$$\n",
    "E_p[f(\\theta)] = \\frac{\\sum_{i=1}^n f(\\theta_i)\\tilde{P}(\\theta_i)\\Delta\\theta_i}{\\sum_{i=1}^n \\tilde{P}(\\theta_i)\\Delta\\theta_i} = \\frac{\\sum_{i=1}^n w_i f(\\theta_i)}{\\sum_{i=1}^n w_i}\n",
    "$$\n",
    "<br>\n",
    "Our effective sample size (ess), depending on the weights, is $n_{eff}<n$. In theory, $n_{eff} = (\\sum w_i)^2/(\\sum w_i^2)$\n",
    "<br><br><br><br>\n",
    "\n",
    "#### 3. Monte Carlo methods\n",
    "Goal: estimate $E_p[f(\\theta)]$ using a grid of $n$ points to an equivalent estimation of $n$ samples $\\{f(\\theta_1),\\ldots,f(\\theta_n)\\}$ and associated weights $\\{w_1,\\ldots,w_n\\}$, but we also want to addaptively increase resolution of the grid, that is, adjust $\\Delta\\theta_i$ such that the weights $w_i = \\tilde{P}(\\theta_i)\\Delta\\theta_i$ are uniform to some precision, so we want\n",
    "$$\n",
    "\\Delta\\theta_i \\propto \\frac{1}{\\tilde{P}(\\theta_i)}\n",
    "$$\n",
    "Let's define the pdf $Q(\\theta)$ from some _proposal distribution_ $Q$ based on varying resolution of points $\\Delta\\theta(\\theta)$:\n",
    "$$\n",
    "Q(\\theta) \\propto \\frac{1}{\\Delta\\theta(\\theta)}\n",
    "$$\n",
    "so\n",
    "$$\n",
    "E_p[f(\\theta)] = \\frac{\\int f(\\theta)\\tilde{P}(\\theta)d\\theta}{\\int \\tilde{P}(\\theta)d\\theta} = \\frac{\\int f(\\theta)\\frac{\\tilde{P}(\\theta)}{Q(\\theta)}Q(\\theta)d\\theta}{\\int \\frac{\\tilde{P}(\\theta)}{Q(\\theta)}Q(\\theta)d\\theta} = \\frac{E_Q[f(\\theta)\\tilde{P}(\\theta)/Q(\\theta)]}{E_Q[\\tilde{P}(\\theta)/Q(\\theta)]}\n",
    "$$\n",
    "\n",
    "we do this because we can estimate the expressions using a series of $n$ randomly generated samples from $Q(\\theta)$. This is called a Monte Carlo approach for estimating the expectation (see MC Integration method above). Drawing $n$ samples from $\\{\\theta_1,\\ldots,\\theta_n\\}$ from $Q(\\theta)$ is inherently random, a stochastic process. Since the $n$ samples are generated randomly from $Q(\\theta)$ over the entire sample space, we can guarantee $Q(\\theta)$ will provide sufficient coverage over all possible $\\theta$, so Monte Carlo methods are consistent estimators.\n",
    "<br><br>\n",
    "\n",
    "(#1): If we let $\\tilde{P}(\\theta_i)/Q(\\theta_i) = \\tilde{w}(\\theta_i)$,\n",
    "$$\n",
    "E_p[f(\\theta)] = \\frac{E_Q[f(\\theta)\\tilde{w}(\\theta)]}{E_Q[\\tilde{w}(\\theta)]} \\approx \\frac{\\sum_{i=1}^n f(\\theta_i)\\tilde{w}(\\theta_i)Q(\\theta_i)}{\\sum_{i=1}^n \\tilde{w}(\\theta_i)Q(\\theta_i)}\n",
    "$$\n",
    "<br><br>\n",
    "\n",
    "If we assume that _proposal distribution_ $Q(\\theta)$ has the 1D uniform distribution, then $Q(\\theta_i) = 1/n$ and $\\tilde{w}(\\theta_i) = \\tilde{P}(\\theta_i)$ so\n",
    "$$\n",
    "E_p[f(\\theta)] \\approx \\frac{n^{-1}\\sum_{i=1}^n f(\\theta_i)\\tilde{w}(\\theta_i)}{n^{-1}\\sum_{i=1}^n \\tilde{w}(\\theta_i)}\n",
    "$$\n",
    "and observe that\n",
    "$$\n",
    "Z = \\int \\tilde{P}(\\theta)d\\theta \\approx \\frac{1}{n}\\sum_{i=1}^n \\tilde{w}(\\theta_i)\n",
    "$$\n",
    "which is simply a Monte Carlo integral estimate of the evidence in the posterior.\n",
    "<br><br><br>\n",
    "\n",
    "The above method in (#1) is called _importance sampling_ where $\\tilde{w}(\\theta_i)$ are the _importance weights_. Instead of the uniform, we could choose $Q(\\theta)=p(\\theta)$ the prior.Then $\\tilde{w}(\\theta_i) = L(\\theta_i)$. The optimal strategy would be to use $Q(\\theta) = P(\\theta)$ so that $\\tilde{w}(\\theta_i) = Z$ which generates the maximum possible ess of the parameter space. This is the motivation behind MCMC.\n",
    "<br><br><br><br>\n",
    "\n",
    "#### 4. Markov Chain Monte Carlo (MCMC) via the Metropolis-Hastings Algorithm\n",
    "Goal: create a _chain_ of correlated parameter values $\\{\\theta_1\\rightarrow \\cdots \\rightarrow \\theta_n\\}$ over $n$ iterations such that the number of iterations $m(\\theta_i)$ spent on any region $\\delta_{\\theta_i}$ centered on $\\theta_i$ is proportional to $P(\\theta_i)$ contained within $\\delta_{\\theta_i}$. We want the limiting behavior to reduce to a chain of samples whose distribution follows the posterior.\n",
    "<br><br>\n",
    "\n",
    "The _Metropolis-Hastings_ algorithm can draw samples from any probability density $P(\\theta)$, which is the posterior in this case, provided that we know $\\tilde{P}(\\theta)$ which is proportional to $P(\\theta)$. At iteration $i$ the method used to propose a candidate $\\theta_i$ is by sampling from the proposal distribution $Q(\\theta_i\\vert \\theta_{i-1})$. A common choice for $Q(\\theta_i\\vert\\theta_{i-1})$ is a normal distribution centered at $\\theta_{i-1}$, making the chain a _Gaussian random walk_. The algorithm is as follows:\n",
    "\n",
    "0) Choose an arbitrary starting point $\\theta_0$ to be the first observation in the sample. Beginning from iteration $i=1$, choose a symmetric proposal pdf $Q(\\theta_i\\vert \\theta_{i-1})$.\n",
    "\n",
    "For each iteration $i$,\n",
    "1) Propose a new position $\\theta_{i-1}\\rightarrow \\theta_i'$ by generating a sample from $Q(\\theta_i'\\vert \\theta_{i-1})$\n",
    "2) Compute the _transition probability_ (_acceptance ratio_)\n",
    "$$\n",
    "\\alpha = T(\\theta_{i}'\\vert\\theta_i) = \\min\\left[\\frac{P(\\theta_i')Q(\\theta_{i-1}\\vert \\theta_i')}{P(\\theta_{i-1})Q(\\theta_i'\\vert \\theta_{i-1})} , 1 \\right] = \\min\\left[\\frac{\\tilde{P}(\\theta_i')Q(\\theta_{i-1}\\vert \\theta_i')}{\\tilde{P}(\\theta_{i-1})Q(\\theta_i'\\vert \\theta_{i-1})} , 1 \\right]\n",
    "$$\n",
    "<br>\n",
    "since $P$ is proportional to $\\tilde{P}$. If the proposal distribution $Q$ is symmetric, then the pdfs $Q(\\theta_i'\\vert \\theta_{i-1}) = Q(\\theta_{i-1}\\vert \\theta_i')$ and so\n",
    "<br>\n",
    "$$\n",
    "\\alpha = T(\\theta_{i}'\\vert\\theta_i) = \\min\\left[\\frac{\\tilde{P}(\\theta_i')}{\\tilde{P}(\\theta_{i-1})} , 1 \\right]\n",
    "$$\n",
    "3) Generate a random uniform number $u_{i}\\sim U(0,1)$.\n",
    "4) If $u_i\\leq \\alpha$, accept the proposal by setting $\\theta_i = \\theta_i'$. Else, reject the proposal and set $\\theta_i = \\theta_{i-1}$.\n",
    "\n",
    "<br><br><br>\n",
    "\n",
    "This method generates a chain of states where the next proposed position depends only on the current position (forgets the past), making it a _Markov process_. Since we must guess $\\theta_0$, we remove initial chain of states from the sample once the chain begins to sample from higher probability regions, known as a _burn-in_.\n",
    "\n",
    "$\\theta_i$ is likely to be correlated with $\\theta_{i-1}$ and $\\theta_{i+1}$. If the acceptance ratio is low, we increase in overall correlation. The auto-covariance $C(t)$ for iteration lag $t$ is\n",
    "$$\n",
    "C(t) = \\lim_{n\\rightarrow\\infty}\\frac{1}{n}\\sum_{i=1}^n(\\theta_{i}-\\bar{\\theta})\\cdot(\\theta_{i+t}-\\bar{\\theta})\n",
    "$$\n",
    "and the _autocorrelation_ is\n",
    "$$\n",
    "A(t) = \\frac{C(t)}{C(0)}\n",
    "$$\n",
    "with auto-correlation time\n",
    "$$\n",
    "\\tau = 2\\sum_{t=1}^\\infty A(t)\n",
    "$$\n",
    "and\n",
    "$$\n",
    "n_{eff}' = \\frac{n_{eff}}{1+\\tau}\n",
    "$$\n",
    "\n",
    "<br><br><br><br>\n",
    "\n",
    "Sources\n",
    "- https://arxiv.org/pdf/1909.12313.pdf\n",
    "\n",
    "Literature references\n",
    "- https://www.cs.ubc.ca/~arnaud/andrieu_defreitas_doucet_jordan_intromontecarlomachinelearning.pdf\n",
    "- https://arxiv.org/pdf/2304.02595.pdf\n",
    "\n",
    "Coding references\n",
    "- https://boyangzhao.github.io/posts/mcmc-bayesian-inference\n",
    "- https://people.duke.edu/~ccc14/sta-663/MCMC.html\n",
    "- https://towardsdatascience.com/from-scratch-bayesian-inference-markov-chain-monte-carlo-and-metropolis-hastings-in-python-ef21a29e25a"
   ]
  },
  {
   "cell_type": "markdown",
   "id": "94f64dba",
   "metadata": {},
   "source": [
    "### 1D Examples of MCMC implementation"
   ]
  },
  {
   "cell_type": "markdown",
   "id": "01fe611e",
   "metadata": {},
   "source": [
    "##### Example 1\n",
    "Generate $N(0,1)$ using the random walk Metropolis algorithm based on proposal distribution $Q(\\theta_i'\\vert \\theta_{i-1}) \\sim \\text{Unif}(\\theta_{i-1}-a, \\theta_{i-1}+a)$."
   ]
  },
  {
   "cell_type": "code",
   "execution_count": 81,
   "id": "f796e1b4",
   "metadata": {},
   "outputs": [
    {
     "name": "stderr",
     "output_type": "stream",
     "text": [
      "C:\\Users\\Sasha\\AppData\\Local\\Temp\\ipykernel_11832\\1277603279.py:31: UserWarning: \n",
      "\n",
      "`distplot` is a deprecated function and will be removed in seaborn v0.14.0.\n",
      "\n",
      "Please adapt your code to use either `displot` (a figure-level function with\n",
      "similar flexibility) or `histplot` (an axes-level function for histograms).\n",
      "\n",
      "For a guide to updating your code to use the new functions, please see\n",
      "https://gist.github.com/mwaskom/de44147ed2974457ad6372750bbe5751\n",
      "\n",
      "  sns.distplot(C, bins=30, kde=True, hist=True, color='orange', label=\"Aprox\", hist_kws={'alpha':0.3})\n"
     ]
    },
    {
     "data": {
      "image/png": "[encoded data removed]",
      "text/plain": [
       "<Figure size 640x480 with 1 Axes>"
      ]
     },
     "metadata": {},
     "output_type": "display_data"
    }
   ],
   "source": [
    "a = 1\n",
    "N = 20000\n",
    "theta = np.zeros(N)\n",
    "theta[0] = 0  # first value of theta in the Markov chain is 0.\n",
    "\n",
    "for i in range(1, N):\n",
    "    #1) Propose new position x[i-1] -> x[i]' by sampling from proposal distro\n",
    "    theta_prop = np.random.uniform(theta[i-1]-a, theta[i-1]+a) #x[i]'\n",
    "\n",
    "    #2) Compute transition probability\n",
    "    f_prop = stats.norm.pdf(theta_prop, 0, 1) #~P(theta_i')\n",
    "    f_prev = stats.norm.pdf(theta[i-1], 0, 1)  #~P(theta_{i-1})\n",
    "    \n",
    "    alpha = min(f_prop/f_prev, 1)  # Acceptance ratio\n",
    "    \n",
    "    #3) Generate a random number u_i from [0,1]\n",
    "    u = np.random.uniform(0,1) #u_i\n",
    "    \n",
    "    if u <= alpha:\n",
    "        theta[i] = theta_prop  # Accept y as next state\n",
    "    else:\n",
    "        theta[i] = theta[i-1]  # Stay at previous state of Markov chain\n",
    "\n",
    "C = theta\n",
    "\n",
    "# Plot of true density function\n",
    "x = np.linspace(-4,4,1000)\n",
    "plt.plot(x, stats.norm.pdf(x, 0, 1), label=\"True\")\n",
    "\n",
    "# Plot of MCMC approximation\n",
    "sns.distplot(C, bins=30, kde=True, hist=True, color='orange', label=\"Aprox\", hist_kws={'alpha':0.3})\n",
    "\n",
    "plt.xlabel('X')\n",
    "plt.ylabel('Density')\n",
    "plt.title('Approximation of N(0,1)')\n",
    "plt.legend(loc='upper left')\n",
    "plt.show()"
   ]
  }
 ],
 "metadata": {
  "kernelspec": {
   "display_name": "Python 3 (ipykernel)",
   "language": "python",
   "name": "python3"
  },
  "language_info": {
   "codemirror_mode": {
    "name": "ipython",
    "version": 3
   },
   "file_extension": ".py",
   "mimetype": "text/x-python",
   "name": "python",
   "nbconvert_exporter": "python",
   "pygments_lexer": "ipython3",
   "version": "3.10.9"
  }
 },
 "nbformat": 4,
 "nbformat_minor": 5
}
